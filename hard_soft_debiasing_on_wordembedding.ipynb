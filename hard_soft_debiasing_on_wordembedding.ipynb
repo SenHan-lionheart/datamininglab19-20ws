{
 "cells": [
  {
   "cell_type": "code",
   "execution_count": 1,
   "metadata": {},
   "outputs": [],
   "source": [
    "from gensim import models\n",
    "import numpy as np\n",
    "#from sklearn.decomposition import PCA"
   ]
  },
  {
   "cell_type": "code",
   "execution_count": 22,
   "metadata": {},
   "outputs": [
    {
     "data": {
      "text/plain": [
       "\"\\npca=PCA(n_components=1,svd_solver='full')# k=1 for genderspace\\nmodel=pca.fit(genderspace)\\ng=model.components_\\n\""
      ]
     },
     "execution_count": 22,
     "metadata": {},
     "output_type": "execute_result"
    }
   ],
   "source": [
    "#****\n",
    "def unit(vec):\n",
    "    unit_vec=vec/np.linalg.norm(vec)\n",
    "    return unit_vec\n",
    "def proj_neural_on_subspace(unit_neural_vec,unit_subspace_vec):# before input vectors should be united\n",
    "    u=unit_neural_vec\n",
    "    v=np.reshape(unit_subspace_vec,(300,)) # change_point!!!\n",
    "    v_norm=np.sqrt(sum(v**2))\n",
    "    proj_u_on_v=(np.dot(u,v)/v_norm**2)*v\n",
    "    return proj_u_on_v#  1-d array for 300 element\n",
    "#****\n",
    "def neural_re_embedding(neural_vec,subspace_vec):# before input all vectors should be united////neutralize\n",
    "    n=neural_vec\n",
    "    s=proj_neural_on_subspace(neural_vec,subspace_vec)\n",
    "    re_embedding_vec=(n-s)/np.linalg.norm(n-s)\n",
    "    return re_embedding_vec\n",
    "#****\n",
    "#np.isclose(0,q)\n",
    "def equalize(e_vec1,e_vec2,subspace_vec):# all input vectors  should be united\n",
    "    emean_vec=(e_vec1+e_vec2)/2\n",
    "    emean_vec_subspace=proj_neural_on_subspace(emean_vec,subspace_vec)\n",
    "    v=emean_vec-emean_vec_subspace\n",
    "    \n",
    "    common=1-(np.linalg.norm(v))**2\n",
    "    ve1=(proj_neural_on_subspace(e_vec1,subspace_vec)-emean_vec_subspace)/np.linalg.norm(proj_neural_on_subspace(e_vec1,subspace_vec)-emean_vec_subspace)\n",
    "    ve2=(proj_neural_on_subspace(e_vec2,subspace_vec)-emean_vec_subspace)/np.linalg.norm(proj_neural_on_subspace(e_vec2,subspace_vec)-emean_vec_subspace)\n",
    "    \n",
    "    re_e_vec1=v+np.sqrt(common)*ve1\n",
    "    re_e_vec2=v+np.sqrt(common)*ve2\n",
    "    \n",
    "    return re_e_vec1,re_e_vec2\n",
    "def self_pca(matrix):# time to discuss!!!!\n",
    "    n_feature=matrix.shape[1]\n",
    "    #n_feature\n",
    "    mean=np.array([np.mean(matrix[:,i]) for i in range(n_feature)])\n",
    "    #mean\n",
    "    norm=matrix-mean\n",
    "    scatter=np.dot(np.transpose(norm),norm)\n",
    "    eig_val,eig_vec=np.linalg.eig(scatter)\n",
    "    eig_pairs = [(np.abs(eig_val[i]), eig_vec[:,i]) for i in range(n_feature)]\n",
    "    eig_pairs.sort(reverse=True)\n",
    "    return eig_pairs\n",
    "def direct_cos_bias(neural,subspace):# neutralize check\n",
    "    bias=np.dot(neural,subspace)/(np.linalg.norm(neural)*np.linalg.norm(subspace))\n",
    "    return bias\n",
    "def distance(neural,e_vec1,e_vec2):\n",
    "    dist1=np.linalg.norm(neural-e_vec1)\n",
    "    dist2=np.linalg.norm(neural-e_vec2)\n",
    "    return dist1,dist2\n",
    "'''\n",
    "pca=PCA(n_components=1,svd_solver='full')# k=1 for genderspace\n",
    "model=pca.fit(genderspace)\n",
    "g=model.components_\n",
    "'''"
   ]
  },
  {
   "cell_type": "code",
   "execution_count": 653,
   "metadata": {},
   "outputs": [
    {
     "data": {
      "text/plain": [
       "array([ 1.92382812e-01,  1.27929688e-01, -1.91650391e-02, -2.92968750e-02,\n",
       "        3.10058594e-02, -8.44726562e-02, -9.96093750e-02, -5.34667969e-02,\n",
       "        1.65039062e-01, -3.36914062e-02, -1.51977539e-02, -1.83593750e-01,\n",
       "        6.05468750e-02, -4.46777344e-02, -2.85156250e-01,  4.34570312e-02,\n",
       "       -3.10058594e-02,  7.22656250e-02,  1.04980469e-01, -2.08740234e-02,\n",
       "       -7.20214844e-03,  1.24511719e-01,  1.66015625e-02, -5.49316406e-03,\n",
       "       -6.44531250e-02, -1.66992188e-01, -1.16210938e-01, -2.62451172e-02,\n",
       "        1.84570312e-01,  3.71093750e-02,  2.38037109e-02,  1.63085938e-01,\n",
       "       -1.40380859e-02,  2.45361328e-02,  8.44726562e-02, -3.07617188e-02,\n",
       "        1.48437500e-01, -8.91113281e-03,  3.73535156e-02,  2.06298828e-02,\n",
       "        2.83203125e-01, -4.24804688e-02,  3.02734375e-01,  1.09863281e-02,\n",
       "        4.80957031e-02,  1.26953125e-01, -1.24023438e-01,  2.90527344e-02,\n",
       "        4.73632812e-02,  6.73828125e-02,  1.34765625e-01,  8.49609375e-02,\n",
       "       -3.14941406e-02, -1.08398438e-01, -4.46777344e-02, -2.68554688e-02,\n",
       "       -1.90429688e-02, -6.34765625e-02, -2.78320312e-02, -1.15722656e-01,\n",
       "        2.12890625e-01,  2.12890625e-01, -1.16577148e-02,  1.87988281e-02,\n",
       "        5.78613281e-02,  6.64062500e-02, -4.68750000e-02, -7.91015625e-02,\n",
       "       -1.23901367e-02,  1.25976562e-01,  6.59179688e-02, -9.99450684e-04,\n",
       "        2.91748047e-02,  3.61328125e-02, -1.20605469e-01, -1.11328125e-01,\n",
       "        1.40625000e-01,  1.03027344e-01,  5.22460938e-02,  8.11767578e-03,\n",
       "        1.28906250e-01, -1.40625000e-01,  4.29687500e-02, -1.15722656e-01,\n",
       "       -5.85937500e-02, -9.81445312e-02,  8.05664062e-03,  1.50390625e-01,\n",
       "       -4.32128906e-02, -8.49609375e-02, -8.88671875e-02,  1.34765625e-01,\n",
       "       -3.85742188e-02, -1.04980469e-01, -1.18652344e-01, -5.51757812e-02,\n",
       "        1.13769531e-01,  3.12500000e-02,  6.77490234e-03, -1.41601562e-01,\n",
       "       -1.75781250e-01, -9.47265625e-02,  2.44140625e-02,  2.07519531e-02,\n",
       "       -7.81250000e-02, -1.87988281e-02, -1.19628906e-02, -1.08398438e-01,\n",
       "       -4.30297852e-03, -1.01074219e-01, -1.29882812e-01,  2.33154297e-02,\n",
       "       -3.12500000e-02, -5.44433594e-02,  1.86767578e-02, -4.61425781e-02,\n",
       "       -8.98437500e-02, -1.05957031e-01,  1.58203125e-01, -2.18505859e-02,\n",
       "       -1.78710938e-01, -1.44653320e-02, -5.12695312e-02,  7.03125000e-02,\n",
       "       -2.44140625e-01, -1.77734375e-01,  7.42187500e-02, -4.51660156e-02,\n",
       "       -1.90429688e-02, -6.83593750e-02, -1.66015625e-01, -9.13085938e-02,\n",
       "       -1.45507812e-01, -2.11914062e-01, -1.03027344e-01, -8.00781250e-02,\n",
       "       -5.85937500e-02,  1.91406250e-01, -2.50244141e-02,  2.07031250e-01,\n",
       "        3.80859375e-02, -9.52148438e-03,  4.19921875e-02,  7.29370117e-03,\n",
       "        7.72094727e-03,  2.31933594e-02, -1.40625000e-01, -1.30859375e-01,\n",
       "       -1.55273438e-01,  1.50390625e-01,  2.89306641e-02,  1.27929688e-01,\n",
       "       -2.57812500e-01,  2.03857422e-02, -5.05371094e-02, -6.80541992e-03,\n",
       "       -8.20312500e-02, -1.43554688e-01,  6.34765625e-02,  3.75976562e-02,\n",
       "        6.98242188e-02,  1.01074219e-01,  1.27929688e-01,  1.36718750e-01,\n",
       "       -8.74023438e-02, -7.14111328e-03,  5.02929688e-02,  3.61633301e-03,\n",
       "        2.12890625e-01, -1.14257812e-01,  1.03759766e-02, -2.20947266e-02,\n",
       "       -1.69921875e-01, -1.32812500e-01, -3.64685059e-03, -3.12500000e-02,\n",
       "        5.29785156e-02, -1.50390625e-01,  6.10351562e-03, -2.24609375e-02,\n",
       "       -1.13769531e-01,  2.41699219e-02,  3.95507812e-02, -3.39355469e-02,\n",
       "       -8.48388672e-03, -3.27148438e-02,  3.05175781e-02,  1.60156250e-01,\n",
       "        6.83593750e-02, -7.81250000e-02,  4.54101562e-02,  2.22656250e-01,\n",
       "        5.46875000e-02,  2.11914062e-01,  4.44335938e-02, -2.08740234e-02,\n",
       "       -1.60156250e-01, -2.51770020e-03, -6.54296875e-02, -1.59179688e-01,\n",
       "       -1.38671875e-01, -1.20239258e-02,  1.20605469e-01, -1.38549805e-02,\n",
       "        1.94335938e-01, -1.15234375e-01, -3.00292969e-02,  6.54296875e-02,\n",
       "        2.19726562e-02, -9.37500000e-02,  7.22656250e-02, -1.77734375e-01,\n",
       "       -8.42285156e-03, -1.27929688e-01, -2.27539062e-01,  3.36914062e-02,\n",
       "        4.22363281e-02,  3.75976562e-02, -1.43554688e-01, -1.80664062e-02,\n",
       "        5.27343750e-02,  2.07519531e-02, -3.27148438e-02, -2.50244141e-02,\n",
       "        3.37890625e-01, -9.86328125e-02,  1.27929688e-01,  9.17968750e-02,\n",
       "        9.13085938e-02, -4.48608398e-03,  7.53784180e-03, -5.41992188e-02,\n",
       "        2.99072266e-02, -1.13769531e-01,  1.81640625e-01, -4.15039062e-03,\n",
       "       -2.01171875e-01, -1.40991211e-02,  1.89208984e-02, -9.32617188e-02,\n",
       "        6.92749023e-03, -4.17480469e-02, -1.02539062e-01, -3.66210938e-02,\n",
       "       -3.05175781e-02, -3.97949219e-02, -1.75781250e-02, -2.18505859e-02,\n",
       "        1.07910156e-01,  2.12402344e-02,  1.18652344e-01,  3.90625000e-03,\n",
       "       -4.29687500e-02, -2.33650208e-04,  1.11816406e-01,  1.14257812e-01,\n",
       "        3.85742188e-02, -3.85742188e-02, -1.46484375e-01, -5.32226562e-02,\n",
       "        5.12695312e-02, -5.76782227e-03, -1.86523438e-01,  1.03027344e-01,\n",
       "        1.37695312e-01,  5.66406250e-02,  2.07519531e-03, -1.37329102e-02,\n",
       "        2.68554688e-02, -1.77001953e-02,  1.91406250e-01,  4.15039062e-03,\n",
       "        1.14746094e-01, -1.06201172e-02, -8.15429688e-02, -9.91210938e-02,\n",
       "        1.94091797e-02, -1.91406250e-01, -3.78417969e-02, -7.71484375e-02,\n",
       "        7.61718750e-02, -1.97753906e-02,  1.64062500e-01,  8.25195312e-02,\n",
       "       -2.53906250e-02, -9.70458984e-03,  2.94494629e-03, -7.61718750e-02,\n",
       "        3.14941406e-02,  1.25000000e-01, -6.17675781e-02, -4.34570312e-02,\n",
       "       -1.13769531e-01, -8.72802734e-03, -1.27929688e-01,  1.07421875e-01,\n",
       "        4.11987305e-03, -1.72851562e-01,  1.23046875e-01, -1.60156250e-01],\n",
       "      dtype=float32)"
      ]
     },
     "execution_count": 653,
     "metadata": {},
     "output_type": "execute_result"
    }
   ],
   "source": [
    "w['he']"
   ]
  },
  {
   "cell_type": "code",
   "execution_count": 3,
   "metadata": {},
   "outputs": [],
   "source": [
    "w = models.KeyedVectors.load_word2vec_format(\n",
    "    '/home/senhan/GoogleNews-vectors-negative300.bin', binary=True)\n",
    "word=[['she','he'],['her','his'],['woman','man'],['Mary','John'],['herself','himself'],['daughter','son'],['mother','father'],['gal','guy'],['girl','boy'],['female','male']]"
   ]
  },
  {
   "cell_type": "code",
   "execution_count": 88,
   "metadata": {},
   "outputs": [
    {
     "name": "stdout",
     "output_type": "stream",
     "text": [
      "0\n",
      "2\n",
      "4\n",
      "6\n",
      "8\n",
      "10\n"
     ]
    }
   ],
   "source": [
    "for i in range(color_num):\n",
    "\n",
    "    j=2*i\n",
    "    print(j)\n"
   ]
  },
  {
   "cell_type": "code",
   "execution_count": 94,
   "metadata": {
    "scrolled": true
   },
   "outputs": [
    {
     "name": "stdout",
     "output_type": "stream",
     "text": [
      "[t-SNE] Computing 12 nearest neighbors...\n",
      "[t-SNE] Indexed 13 samples in 0.000s...\n",
      "[t-SNE] Computed neighbors for 13 samples in 0.001s...\n",
      "[t-SNE] Computed conditional probabilities for sample 13 / 13\n",
      "[t-SNE] Mean sigma: 1125899906842624.000000\n",
      "[t-SNE] KL divergence after 250 iterations with early exaggeration: 42.501129\n",
      "[t-SNE] KL divergence after 300 iterations: 0.365738\n"
     ]
    },
    {
     "data": {
      "image/png": "[encoded data removed]",
      "text/plain": [
       "<Figure size 432x288 with 1 Axes>"
      ]
     },
     "metadata": {
      "needs_background": "light"
     },
     "output_type": "display_data"
    }
   ],
   "source": [
    "from sklearn.manifold import TSNE#atplotlib inline\n",
    "import matplotlib.pyplot as plt\n",
    "import matplotlib\n",
    "matrix=[]\n",
    "for i in range(6):\n",
    "    matrix.append(unit(w[word[i][0]]))\n",
    "    matrix.append(unit(w[word[i][1]]))\n",
    "    \n",
    "matrix.append(subspace)\n",
    "matrix=np.asarray(matrix)\n",
    "#matrix=np.asarray([rembed_word,neural_word,subspace])\n",
    "#matrix=np.asarray([rembed_word,subspace])\n",
    "#matrix=np.asarray([neural_word,subspace])\n",
    "\n",
    "tsne=TSNE(n_components=2,verbose=1,perplexity=40,n_iter=300)\n",
    "tsne_r=tsne.fit_transform(matrix)\n",
    "#tsne_r=tsne_results\n",
    "\n",
    "tsne_results=tsne_r[0:12]\n",
    "xs=tsne_results[:,0]\n",
    "ys=tsne_results[:,1]\n",
    "\n",
    "color_num=int(len(tsne_results)/2)\n",
    "color=['k','c','m','g','y','b']\n",
    "\n",
    "#for i in range(color_num):\n",
    " #   string='^'+color[i]\n",
    "  #  j=2*i\n",
    "\n",
    "for i in range(6):\n",
    "    string='^'+color[i]\n",
    "    j=2*i\n",
    "    plt.plot(xs[j],ys[j],string)\n",
    "    plt.plot(xs[j+1],ys[j+1],string)\n",
    "\n",
    "plt.gca().title.set_position([.5,1.05])\n",
    "plt.title('Tsne dimension reduction n_components=2',font)\n",
    "labels=['she','he','her','his','woman','man','Mary','John','daughter','son','mother','father']\n",
    "i=0\n",
    "for x,y in zip(xs,ys):\n",
    "    label=labels[i]\n",
    "    i=i+1\n",
    "    plt.annotate(label,(x,y),textcoords='offset points',xytext=(0,10),ha='center')\n",
    "\n",
    "plt.plot(tsne_r[12][0],tsne_r[12][1],'or')\n",
    "plt.annotate('subspace',(tsne_r[12][0],tsne_r[12][1]),textcoords='offset points',xytext=(0,10),ha='center')\n",
    "\n",
    "#plt.plot(tsne_results[1][0],tsne_results[1][1],'ok')\n",
    "#plt.annotate('re_football',(tsne_results[1][0],tsne_results[1][1]),textcoords='offset points',xytext=(0,10),ha='center')\n",
    "\n",
    "\n",
    "\n",
    "\n",
    "\n",
    "#labels=['she','he','her','his','woman','man','Mary','John','daughter','son','mother','father','subspace']\n",
    "\n",
    "\n",
    "\n",
    "plt.show()"
   ]
  },
  {
   "cell_type": "code",
   "execution_count": 93,
   "metadata": {},
   "outputs": [
    {
     "ename": "SyntaxError",
     "evalue": "invalid syntax (<ipython-input-93-8ca878e2d258>, line 6)",
     "output_type": "error",
     "traceback": [
      "\u001b[0;36m  File \u001b[0;32m\"<ipython-input-93-8ca878e2d258>\"\u001b[0;36m, line \u001b[0;32m6\u001b[0m\n\u001b[0;31m    plt.title('Tsne dimension reduction n_components=2',font=)\u001b[0m\n\u001b[0m                                                             ^\u001b[0m\n\u001b[0;31mSyntaxError\u001b[0m\u001b[0;31m:\u001b[0m invalid syntax\n"
     ]
    }
   ],
   "source": [
    "sample=tsne_results[2:]\n",
    "xs=sample[:,0]\n",
    "ys=sample[:,1]\n",
    "plt.plot(xs,ys,'ob')\n",
    "plt.gca().title.set_position([.5,1.05])\n",
    "plt.title('Tsne dimension reduction n_components=2',font=)\n",
    "labels=['subspace','he','she']\n",
    "i=0\n",
    "for x,y in zip(xs,ys):\n",
    "    label=labels[i]\n",
    "    i=i+1\n",
    "    plt.annotate(label,(x,y),textcoords='offset points',xytext=(0,10),ha='center')\n",
    "\n",
    "plt.plot(tsne_results[0][0],tsne_results[0][1],'or')\n",
    "plt.annotate('football',(tsne_results[0][0],tsne_results[0][1]),textcoords='offset points',xytext=(0,10),ha='center')\n",
    "\n",
    "plt.plot(tsne_results[1][0],tsne_results[1][1],'ok')\n",
    "plt.annotate('re_football',(tsne_results[1][0],tsne_results[1][1]),textcoords='offset points',xytext=(0,10),ha='center')\n",
    "\n",
    "plt.show()"
   ]
  },
  {
   "cell_type": "code",
   "execution_count": 4,
   "metadata": {},
   "outputs": [],
   "source": [
    "genderspace=[]\n",
    "for i in range(len(word)):\n",
    "    difference=unit(w[word[i][0]])-unit(w[word[i][1]])\n",
    "    genderspace.append(difference)\n",
    "genderspace # not unit vector\n",
    "\n",
    "eig_word_pair=self_pca(np.array(genderspace)) # k=1 pick first row as genderspace\n",
    "eig_val=eig_word_pair[0][0]\n",
    "eig_vector=eig_word_pair[0][1]\n",
    "eig_word_pair\n",
    "\n",
    "subspace=unit(eig_vector)# unit vector\n",
    "\n",
    "\n",
    "e1=unit(w['he'])\n",
    "e2=unit(w['she'])\n",
    "neural_word=unit(w['homemaker'])\n",
    "\n",
    "rembed_word=neural_re_embedding(neural_word,subspace)\n",
    "d0=direct_cos_bias(neural_word,subspace)\n",
    "dr=direct_cos_bias(rembed_word,subspace)\n",
    "\n",
    "rembed_e1,rembed_e2=equalize(e1,e2,subspace)\n",
    "e1_n=direct_cos_bias(e1,neural_word)\n",
    "e2_n=direct_cos_bias(e2,neural_word)\n",
    "\n",
    "e1_rn=direct_cos_bias(rembed_e1,rembed_word)\n",
    "e2_rn=direct_cos_bias(rembed_e2,rembed_word)"
   ]
  },
  {
   "cell_type": "code",
   "execution_count": 5,
   "metadata": {},
   "outputs": [],
   "source": [
    "import pandas as pd\n",
    "import numpy as np\n",
    "import matplotlib.pyplot as plt\n",
    "import seaborn as sns"
   ]
  },
  {
   "cell_type": "code",
   "execution_count": 2,
   "metadata": {},
   "outputs": [
    {
     "data": {
      "text/html": [
       "<div>\n",
       "<style scoped>\n",
       "    .dataframe tbody tr th:only-of-type {\n",
       "        vertical-align: middle;\n",
       "    }\n",
       "\n",
       "    .dataframe tbody tr th {\n",
       "        vertical-align: top;\n",
       "    }\n",
       "\n",
       "    .dataframe thead th {\n",
       "        text-align: right;\n",
       "    }\n",
       "</style>\n",
       "<table border=\"1\" class=\"dataframe\">\n",
       "  <thead>\n",
       "    <tr style=\"text-align: right;\">\n",
       "      <th></th>\n",
       "      <th>country</th>\n",
       "      <th>year</th>\n",
       "      <th>pop</th>\n",
       "      <th>continent</th>\n",
       "      <th>lifeExp</th>\n",
       "      <th>gdpPercap</th>\n",
       "    </tr>\n",
       "  </thead>\n",
       "  <tbody>\n",
       "    <tr>\n",
       "      <th>0</th>\n",
       "      <td>Afghanistan</td>\n",
       "      <td>1952</td>\n",
       "      <td>8425333.0</td>\n",
       "      <td>Asia</td>\n",
       "      <td>28.801</td>\n",
       "      <td>779.445314</td>\n",
       "    </tr>\n",
       "    <tr>\n",
       "      <th>1</th>\n",
       "      <td>Afghanistan</td>\n",
       "      <td>1957</td>\n",
       "      <td>9240934.0</td>\n",
       "      <td>Asia</td>\n",
       "      <td>30.332</td>\n",
       "      <td>820.853030</td>\n",
       "    </tr>\n",
       "    <tr>\n",
       "      <th>2</th>\n",
       "      <td>Afghanistan</td>\n",
       "      <td>1962</td>\n",
       "      <td>10267083.0</td>\n",
       "      <td>Asia</td>\n",
       "      <td>31.997</td>\n",
       "      <td>853.100710</td>\n",
       "    </tr>\n",
       "  </tbody>\n",
       "</table>\n",
       "</div>"
      ],
      "text/plain": [
       "       country  year         pop continent  lifeExp   gdpPercap\n",
       "0  Afghanistan  1952   8425333.0      Asia   28.801  779.445314\n",
       "1  Afghanistan  1957   9240934.0      Asia   30.332  820.853030\n",
       "2  Afghanistan  1962  10267083.0      Asia   31.997  853.100710"
      ]
     },
     "execution_count": 2,
     "metadata": {},
     "output_type": "execute_result"
    }
   ],
   "source": [
    "data_url = 'http://bit.ly/2cLzoxH'\n",
    "gapminder = pd.read_csv(data_url)\n",
    "gapminder.head(n=3)"
   ]
  },
  {
   "cell_type": "code",
   "execution_count": 6,
   "metadata": {},
   "outputs": [],
   "source": [
    "from sklearn.manifold import TSNE#atplotlib inline\n",
    "import matplotlib.pyplot as plt\n",
    "import matplotlib"
   ]
  },
  {
   "cell_type": "code",
   "execution_count": 7,
   "metadata": {},
   "outputs": [
    {
     "name": "stdout",
     "output_type": "stream",
     "text": [
      "shape of genderspace: (10, 300)\n",
      "shape of subspacespace: (300,)\n"
     ]
    }
   ],
   "source": [
    "word=[['she','he'],['her','his'],['woman','man'],['Mary','John'],['herself','himself'],['daughter','son'],['mother','father'],['gal','guy'],['girl','boy'],['female','male']]\n",
    "# codes...\n",
    "print('shape of genderspace: {}'.format(np.shape(genderspace)))\n",
    "print('shape of subspacespace: {}'.format(np.shape(subspace)))"
   ]
  },
  {
   "cell_type": "code",
   "execution_count": 655,
   "metadata": {},
   "outputs": [],
   "source": [
    "neutral_word=['sewing','football','dance','steals','effect','trips','homemaker','champion','flirt','nuclear','yard','brilliant','genius']\n",
    "bias_neu_sub=[]\n",
    "hdebias_neu_sub=[]\n",
    "for item in neutral_word:\n",
    "    u_item=unit(w[item])\n",
    "    reembed=unit(neural_re_embedding(u_item,subspace))\n",
    "    bias_neu_sub.append(np.abs(direct_cos_bias(u_item,subspace)))#absolut values \n",
    "    hdebias_neu_sub.append(np.abs(direct_cos_bias(reembed,subspace)))# absolut value for plotiing\n",
    "bias_neu_sub=np.asarray(bias_neu_sub)\n",
    "hdebias_neu_sub=np.asarray(hdebias_neu_sub)"
   ]
  },
  {
   "cell_type": "code",
   "execution_count": 677,
   "metadata": {},
   "outputs": [
    {
     "data": {
      "text/plain": [
       "1.0"
      ]
     },
     "execution_count": 677,
     "metadata": {},
     "output_type": "execute_result"
    }
   ],
   "source": [
    "\n",
    "np.linalg.norm(subspace)"
   ]
  },
  {
   "cell_type": "code",
   "execution_count": null,
   "metadata": {},
   "outputs": [],
   "source": [
    "neutral_word=['sewing','football','dance','steals','effect','trips','homemaker','champion','flirt','nuclear','yard','brilliant','genius']#labels = ['G1', 'G2', 'G3', 'G4', 'G5']\n",
    "bias_neu_sub #men_means = [20, 34, 30, 35, 27]\n",
    "hdebias_neu_sub #women_means = [25, 32, 34, 20, 25]\n",
    "\n",
    "x = np.arange(len(neutral_word))  # the label locations\n",
    "width = 0.35  # the width of the bars\n",
    "\n",
    "fig, ax = plt.subplots(figsize=(10,10))\n",
    "rects1 = ax.bar(x - width/2, bias_neu_sub, width, label='neutral')\n",
    "rects2 = ax.bar(x + width/2, hdebias_neu_sub, width, label='re_neutral')\n",
    "\n",
    "# Add some text for labels, title and custom x-axis tick labels, etc.\n",
    "ax.set_ylabel('Direct bias cos similarity')\n",
    "ax.set_title('Hard debias: projecion of sampled neutral word on gender subspace')\n",
    "ax.tick_params(axis='x', which='major', pad=15)\n",
    "ax.set_xticks(x)\n",
    "ax.set_xticklabels(neutral_word)\n",
    "ax.legend()\n",
    "\n",
    "\n",
    "def autolabel(rects):\n",
    "    \"\"\"Attach a text label above each bar in *rects*, displaying its height.\"\"\"\n",
    "    for rect in rects:\n",
    "        height = rect.get_height()\n",
    "        ax.annotate('{}'.format(height),\n",
    "                    xy=(rect.get_x() + rect.get_width() / 2, height),\n",
    "                    xytext=(0, 3),  # 3 points vertical offset\n",
    "                    textcoords=\"offset points\",\n",
    "                    ha='center', va='bottom')\n",
    "\n",
    "\n",
    "#autolabel(rects1)\n",
    "#autolabel(rects2)\n",
    "\n",
    "fig.tight_layout()\n",
    "\n",
    "plt.show()\n"
   ]
  },
  {
   "cell_type": "code",
   "execution_count": 660,
   "metadata": {
    "scrolled": false
   },
   "outputs": [
    {
     "data": {
      "image/png": "[encoded data removed]",
      "text/plain": [
       "<Figure size 864x720 with 1 Axes>"
      ]
     },
     "metadata": {
      "needs_background": "light"
     },
     "output_type": "display_data"
    }
   ],
   "source": [
    "neutral_word=['sewing','football','dance','steals','effect','trips','homemaker','champion','flirt','nuclear','yard','brilliant','genius']#labels = ['G1', 'G2', 'G3', 'G4', 'G5']\n",
    "bias_neu_sub #men_means = [20, 34, 30, 35, 27]\n",
    "hdebias_neu_sub #women_means = [25, 32, 34, 20, 25]\n",
    "\n",
    "x = np.arange(len(neutral_word))  # the label locations\n",
    "width = 0.35  # the width of the bars\n",
    "\n",
    "fig, ax = plt.subplots(figsize=(12,10))\n",
    "rects1 = ax.bar(x - width/2, bias_neu_sub, width, label='Before debias')\n",
    "rects2 = ax.bar(x + width/2, 100000*hdebias_neu_sub, width, label='After debias')\n",
    "\n",
    "# Add some text for labels, title and custom x-axis tick labels, etc.\n",
    "ax.set_ylabel('Direct bias cos similarity',font)\n",
    "ax.set_title('Hard debias: projecion of sampled neutral word on gender subspace',font)\n",
    "ax.tick_params(axis='x', which='major', pad=15)\n",
    "ax.set_xticks(x)\n",
    "ax.set_xticklabels(neutral_word)\n",
    "ax.legend()\n",
    "\n",
    "fig.tight_layout()\n",
    "\n",
    "plt.show()\n"
   ]
  },
  {
   "cell_type": "code",
   "execution_count": 376,
   "metadata": {},
   "outputs": [
    {
     "name": "stdout",
     "output_type": "stream",
     "text": [
      "True!\n"
     ]
    }
   ],
   "source": [
    "neutral_word0=['tote','reading','records','clip','commit','game','browsing','sites','seconds','slow','arrival','tactical']\n",
    "neutral_word1=['crafts','credits','trimester','tanning','user','parts','drop','reel','firepower','ultrasound','busy','hoped','command']\n",
    "neutral_word2=['housing','caused','ill','scrimmage','modeling','beautiful','oils','self','gel','looks','zeal','builder','drafted']\n",
    "neutral_word3=['sewing','dress','dance','steals','effect','trips','pageant','earrings','flirt','nuclear','yard','brilliant','genius']\n",
    "neutral_word4=['divorce','nurses','firms','cocky','journeyman','gay','sexuality','salon','tearful','cold','hot','warm','cow']\n",
    "neutral_word5=['voters','seeking','poem','poet','warriors','youth','ties','guru','buddy','angle','sassy','breasts','pearls']\n",
    "neutral_word6=['jewelry','iv','vases','regional','firmly','rule','doctor','phd','buddies','burly','beard','necklace',]\n",
    "neutral_word7=['homemaker','model','training','fitness','babe','dancer','singer','lamb','folks','friend','teacher','priest','mate','sexy']\n",
    "neutral_word8=['physic','chemistry','sports','baseball','idol','assistant','servant','slave','sweety','astronomy','artist']\n",
    "\n"
   ]
  },
  {
   "cell_type": "code",
   "execution_count": 670,
   "metadata": {},
   "outputs": [
    {
     "data": {
      "text/plain": [
       "(100, 300)"
      ]
     },
     "execution_count": 670,
     "metadata": {},
     "output_type": "execute_result"
    }
   ],
   "source": [
    "neutral_word0=['tote','reading','records','clip','commit','game','browsing','sites','seconds','slow','arrival','tactical']\n",
    "neutral_word1=['crafts','credits','trimester','tanning','user','parts','drop','reel','firepower','ultrasound','busy','hoped','command']\n",
    "neutral_word2=['housing','caused','ill','scrimmage','modeling','beautiful','oils','self','gel','looks','zeal','builder','drafted']\n",
    "neutral_word3=['sewing','dress','dance','steals','effect','trips','pageant','earrings','flirt','nuclear','yard','brilliant','genius']\n",
    "neutral_word4=['divorce','nurses','firms','cocky','journeyman','gay','sexuality','salon','tearful','cold','hot','warm','cow']\n",
    "neutral_word5=['voters','seeking','poem','poet','warriors','youth','ties','guru','buddy','angle','sassy','breasts','pearls']\n",
    "neutral_word6=['jewelry','iv','vases','regional','firmly','rule','doctor','phd','buddies','burly','beard','necklace',]\n",
    "neutral_word7=['homemaker','model','training','fitness','babe','dancer','singer','lamb','folks','friend','teacher','priest','mate','sexy']\n",
    "neutral_word8=['physic','chemistry','sports','baseball','idol','assistant','servant','slave','sweety','astronomy','artist']\n",
    "\n",
    "name='neutral_word'\n",
    "neutral_wordset=[]\n",
    "neutral_vectors=[]\n",
    "arr=[neutral_word0,neutral_word1,neutral_word2,neutral_word3,neutral_word4,neutral_word5,neutral_word6,neutral_word8]\n",
    "for i in range(len(arr)):\n",
    "    for j in range(len(arr[i])):\n",
    "        neutral_wordset.append(arr[i][j])\n",
    "len(neutral_wordset)\n",
    "for item in neutral_wordset:\n",
    "    neutral_vectors.append(w[item])\n",
    "\n",
    "neutral_vectors=np.asarray(neutral_vectors)\n",
    "neutral_vectors.shape"
   ]
  },
  {
   "cell_type": "code",
   "execution_count": 270,
   "metadata": {},
   "outputs": [
    {
     "data": {
      "text/plain": [
       "1.0"
      ]
     },
     "execution_count": 270,
     "metadata": {},
     "output_type": "execute_result"
    }
   ],
   "source": [
    "# softdebias\n",
    "num=np.random.randint(0,10000,size=(100,))\n",
    "n_100_vec=[]\n",
    "#for item in num:\n",
    "#    n_100_vec.append(unit(w.vectors[item]))\n",
    "#n_100_vec=np.asarray(n_100_vec)\n",
    "#np.linalg.norm(n_100_vec[0])# inputn..\n",
    "\n",
    "for item in neutral_vectors:\n",
    "    n_100_vec.append(unit(item))\n",
    "n_100_vec=np.asarray(n_100_vec)#inputn\n",
    "\n",
    "k_100=w.vectors[11:(len(num)+11)]\n",
    "for i in range(len(k_100)):\n",
    "    k_100[i]=unit(k_100[i])\n",
    "k_100=np.asarray(k_100)\n",
    "np.linalg.norm(k_100[0])#inputa..\n",
    "\n",
    "\n",
    "\n",
    "label=[]\n",
    "for i in range(len(k_100)):\n",
    "    label.append(np.dot(k_100[i],k_100[i]))\n",
    "label\n",
    "label=np.reshape(label,(len(num),1))\n",
    "label.shape\n",
    "\n",
    "\n",
    "#k_10=w.vectors[:10]\n",
    "\n",
    "b_10_vectors=[]\n",
    "for i in range(len(num)):\n",
    "    b_10_vectors.append(unit(subspace))\n",
    "b_10_vectors\n",
    "b_100_vec=np.asarray(b_10_vectors)\n",
    "np.linalg.norm(b_100_vec[0])# inputb.."
   ]
  },
  {
   "cell_type": "code",
   "execution_count": 271,
   "metadata": {},
   "outputs": [
    {
     "name": "stdout",
     "output_type": "stream",
     "text": [
      "Model: \"model_39\"\n",
      "__________________________________________________________________________________________________\n",
      "Layer (type)                    Output Shape         Param #     Connected to                     \n",
      "==================================================================================================\n",
      "input_115 (InputLayer)          (None, 300)          0                                            \n",
      "__________________________________________________________________________________________________\n",
      "dense_39 (Dense)                (None, 300)          90300       input_115[0][0]                  \n",
      "__________________________________________________________________________________________________\n",
      "dot_77 (Dot)                    (None, 1)            0           dense_39[0][0]                   \n",
      "                                                                 dense_39[0][0]                   \n",
      "==================================================================================================\n",
      "Total params: 90,300\n",
      "Trainable params: 90,300\n",
      "Non-trainable params: 0\n",
      "__________________________________________________________________________________________________\n",
      "Epoch 1/80\n",
      "100/100 [==============================] - 1s 11ms/step - loss: 0.2251 - accuracy: 0.4900\n",
      "Epoch 2/80\n",
      "100/100 [==============================] - 0s 2ms/step - loss: 0.1555 - accuracy: 0.6300\n",
      "Epoch 3/80\n",
      "100/100 [==============================] - 0s 3ms/step - loss: 0.1129 - accuracy: 0.6400\n",
      "Epoch 4/80\n",
      "100/100 [==============================] - 0s 2ms/step - loss: 0.0819 - accuracy: 0.6600\n",
      "Epoch 5/80\n",
      "100/100 [==============================] - 0s 3ms/step - loss: 0.0593 - accuracy: 0.6600\n",
      "Epoch 6/80\n",
      "100/100 [==============================] - 0s 2ms/step - loss: 0.0436 - accuracy: 0.6600\n",
      "Epoch 7/80\n",
      "100/100 [==============================] - 0s 2ms/step - loss: 0.0332 - accuracy: 0.6600\n",
      "Epoch 8/80\n",
      "100/100 [==============================] - 0s 2ms/step - loss: 0.0260 - accuracy: 0.6600\n",
      "Epoch 9/80\n",
      "100/100 [==============================] - 0s 1ms/step - loss: 0.0213 - accuracy: 0.6600\n",
      "Epoch 10/80\n",
      "100/100 [==============================] - 0s 1ms/step - loss: 0.0177 - accuracy: 0.6600\n",
      "Epoch 11/80\n",
      "100/100 [==============================] - 0s 2ms/step - loss: 0.0149 - accuracy: 0.6600\n",
      "Epoch 12/80\n",
      "100/100 [==============================] - 0s 2ms/step - loss: 0.0124 - accuracy: 0.6600\n",
      "Epoch 13/80\n",
      "100/100 [==============================] - 0s 2ms/step - loss: 0.0105 - accuracy: 0.6600\n",
      "Epoch 14/80\n",
      "100/100 [==============================] - 0s 1ms/step - loss: 0.0088 - accuracy: 0.6600\n",
      "Epoch 15/80\n",
      "100/100 [==============================] - 0s 1ms/step - loss: 0.0074 - accuracy: 0.6600\n",
      "Epoch 16/80\n",
      "100/100 [==============================] - 0s 904us/step - loss: 0.0061 - accuracy: 0.6600\n",
      "Epoch 17/80\n",
      "100/100 [==============================] - 0s 790us/step - loss: 0.0050 - accuracy: 0.6600\n",
      "Epoch 18/80\n",
      "100/100 [==============================] - 0s 859us/step - loss: 0.0042 - accuracy: 0.6600\n",
      "Epoch 19/80\n",
      "100/100 [==============================] - 0s 2ms/step - loss: 0.0033 - accuracy: 0.6600\n",
      "Epoch 20/80\n",
      "100/100 [==============================] - 0s 1ms/step - loss: 0.0027 - accuracy: 0.6600\n",
      "Epoch 21/80\n",
      "100/100 [==============================] - 0s 1ms/step - loss: 0.0021 - accuracy: 0.6600\n",
      "Epoch 22/80\n",
      "100/100 [==============================] - 0s 2ms/step - loss: 0.0017 - accuracy: 0.6600\n",
      "Epoch 23/80\n",
      "100/100 [==============================] - 0s 1ms/step - loss: 0.0013 - accuracy: 0.6600\n",
      "Epoch 24/80\n",
      "100/100 [==============================] - 0s 1ms/step - loss: 0.0011 - accuracy: 0.6600\n",
      "Epoch 25/80\n",
      "100/100 [==============================] - 0s 1ms/step - loss: 7.8717e-04 - accuracy: 0.6600\n",
      "Epoch 26/80\n",
      "100/100 [==============================] - 0s 1ms/step - loss: 6.0987e-04 - accuracy: 0.6600\n",
      "Epoch 27/80\n",
      "100/100 [==============================] - 0s 2ms/step - loss: 4.7276e-04 - accuracy: 0.6600\n",
      "Epoch 28/80\n",
      "100/100 [==============================] - 0s 2ms/step - loss: 3.5475e-04 - accuracy: 0.6600\n",
      "Epoch 29/80\n",
      "100/100 [==============================] - 0s 2ms/step - loss: 3.0887e-04 - accuracy: 0.6600\n",
      "Epoch 30/80\n",
      "100/100 [==============================] - 0s 1ms/step - loss: 2.2719e-04 - accuracy: 0.6600\n",
      "Epoch 31/80\n",
      "100/100 [==============================] - 0s 819us/step - loss: 1.6325e-04 - accuracy: 0.6600\n",
      "Epoch 32/80\n",
      "100/100 [==============================] - 0s 693us/step - loss: 2.3166e-04 - accuracy: 0.6600\n",
      "Epoch 33/80\n",
      "100/100 [==============================] - 0s 1ms/step - loss: 1.8475e-04 - accuracy: 0.6600\n",
      "Epoch 34/80\n",
      "100/100 [==============================] - 0s 1ms/step - loss: 1.0464e-04 - accuracy: 0.6600\n",
      "Epoch 35/80\n",
      "100/100 [==============================] - 0s 980us/step - loss: 1.3822e-04 - accuracy: 0.6600\n",
      "Epoch 36/80\n",
      "100/100 [==============================] - 0s 1ms/step - loss: 2.1246e-04 - accuracy: 0.6600\n",
      "Epoch 37/80\n",
      "100/100 [==============================] - 0s 950us/step - loss: 1.2159e-04 - accuracy: 0.6600\n",
      "Epoch 38/80\n",
      "100/100 [==============================] - 0s 3ms/step - loss: 1.1481e-04 - accuracy: 0.6600\n",
      "Epoch 39/80\n",
      "100/100 [==============================] - 0s 2ms/step - loss: 1.1037e-04 - accuracy: 0.6600\n",
      "Epoch 40/80\n",
      "100/100 [==============================] - 0s 1ms/step - loss: 9.7920e-05 - accuracy: 0.6600\n",
      "Epoch 41/80\n",
      "100/100 [==============================] - 0s 2ms/step - loss: 5.8819e-05 - accuracy: 0.6600\n",
      "Epoch 42/80\n",
      "100/100 [==============================] - 0s 1ms/step - loss: 3.2293e-05 - accuracy: 0.6600\n",
      "Epoch 43/80\n",
      "100/100 [==============================] - 0s 2ms/step - loss: 1.8353e-04 - accuracy: 0.6600\n",
      "Epoch 44/80\n",
      "100/100 [==============================] - 0s 1ms/step - loss: 1.2022e-04 - accuracy: 0.6600\n",
      "Epoch 45/80\n",
      "100/100 [==============================] - 0s 1ms/step - loss: 6.6331e-05 - accuracy: 0.6600\n",
      "Epoch 46/80\n",
      "100/100 [==============================] - 0s 1ms/step - loss: 9.2802e-05 - accuracy: 0.6600\n",
      "Epoch 47/80\n",
      "100/100 [==============================] - 0s 1ms/step - loss: 9.0644e-05 - accuracy: 0.6600\n",
      "Epoch 48/80\n",
      "100/100 [==============================] - 0s 810us/step - loss: 5.9729e-05 - accuracy: 0.6600\n",
      "Epoch 49/80\n",
      "100/100 [==============================] - 0s 969us/step - loss: 1.5573e-04 - accuracy: 0.6600\n",
      "Epoch 50/80\n",
      "100/100 [==============================] - 0s 1ms/step - loss: 8.3620e-05 - accuracy: 0.6600\n",
      "Epoch 51/80\n",
      "100/100 [==============================] - 0s 1ms/step - loss: 6.5992e-05 - accuracy: 0.6600\n",
      "Epoch 52/80\n",
      "100/100 [==============================] - 0s 1ms/step - loss: 1.5049e-04 - accuracy: 0.6600\n",
      "Epoch 53/80\n",
      "100/100 [==============================] - 0s 1ms/step - loss: 9.8854e-05 - accuracy: 0.6600\n",
      "Epoch 54/80\n",
      "100/100 [==============================] - 0s 2ms/step - loss: 6.4597e-05 - accuracy: 0.6600\n",
      "Epoch 55/80\n",
      "100/100 [==============================] - 0s 2ms/step - loss: 2.6850e-05 - accuracy: 0.6600\n",
      "Epoch 56/80\n",
      "100/100 [==============================] - 0s 1ms/step - loss: 1.1897e-04 - accuracy: 0.6600\n",
      "Epoch 57/80\n",
      "100/100 [==============================] - 0s 868us/step - loss: 1.0882e-04 - accuracy: 0.6600\n",
      "Epoch 58/80\n",
      "100/100 [==============================] - 0s 2ms/step - loss: 1.0333e-04 - accuracy: 0.6600\n",
      "Epoch 59/80\n",
      "100/100 [==============================] - 0s 2ms/step - loss: 9.0905e-05 - accuracy: 0.6600\n",
      "Epoch 60/80\n",
      "100/100 [==============================] - 0s 1ms/step - loss: 4.9674e-05 - accuracy: 0.6600\n",
      "Epoch 61/80\n",
      "100/100 [==============================] - 0s 1ms/step - loss: 3.0469e-05 - accuracy: 0.6600\n",
      "Epoch 62/80\n",
      "100/100 [==============================] - 0s 1ms/step - loss: 1.3152e-04 - accuracy: 0.6600\n",
      "Epoch 63/80\n",
      "100/100 [==============================] - 0s 1ms/step - loss: 9.8405e-05 - accuracy: 0.6600\n",
      "Epoch 64/80\n",
      "100/100 [==============================] - 0s 1ms/step - loss: 8.5359e-05 - accuracy: 0.6600\n",
      "Epoch 65/80\n",
      "100/100 [==============================] - 0s 1ms/step - loss: 1.1086e-04 - accuracy: 0.6600\n",
      "Epoch 66/80\n",
      "100/100 [==============================] - 0s 2ms/step - loss: 1.1601e-04 - accuracy: 0.6600\n",
      "Epoch 67/80\n",
      "100/100 [==============================] - 0s 2ms/step - loss: 7.5058e-05 - accuracy: 0.6600\n",
      "Epoch 68/80\n",
      "100/100 [==============================] - 0s 1ms/step - loss: 6.0907e-05 - accuracy: 0.6600\n",
      "Epoch 69/80\n",
      "100/100 [==============================] - 0s 1ms/step - loss: 8.0114e-05 - accuracy: 0.6600\n",
      "Epoch 70/80\n",
      "100/100 [==============================] - 0s 827us/step - loss: 1.2598e-04 - accuracy: 0.6600\n",
      "Epoch 71/80\n",
      "100/100 [==============================] - 0s 1ms/step - loss: 5.8567e-05 - accuracy: 0.6600\n",
      "Epoch 72/80\n",
      "100/100 [==============================] - 0s 3ms/step - loss: 3.7451e-05 - accuracy: 0.6600\n",
      "Epoch 73/80\n",
      "100/100 [==============================] - 0s 3ms/step - loss: 1.1563e-04 - accuracy: 0.6600\n",
      "Epoch 74/80\n",
      "100/100 [==============================] - 0s 2ms/step - loss: 1.7209e-04 - accuracy: 0.6600\n",
      "Epoch 75/80\n",
      "100/100 [==============================] - 0s 1ms/step - loss: 3.9234e-05 - accuracy: 0.6600\n",
      "Epoch 76/80\n",
      "100/100 [==============================] - 0s 1ms/step - loss: 1.3355e-05 - accuracy: 0.6600\n",
      "Epoch 77/80\n",
      "100/100 [==============================] - 0s 3ms/step - loss: 5.0958e-05 - accuracy: 0.6600\n",
      "Epoch 78/80\n",
      "100/100 [==============================] - 0s 3ms/step - loss: 1.5044e-04 - accuracy: 0.6600\n",
      "Epoch 79/80\n",
      "100/100 [==============================] - 0s 2ms/step - loss: 1.7602e-04 - accuracy: 0.6600\n",
      "Epoch 80/80\n",
      "100/100 [==============================] - 0s 2ms/step - loss: 5.0309e-05 - accuracy: 0.6600\n",
      "100/100 [==============================] - 0s 3ms/step\n",
      "Accuracy: 66.000003\n"
     ]
    },
    {
     "data": {
      "image/png": "[encoded data removed]",
      "text/plain": [
       "<Figure size 1080x720 with 1 Axes>"
      ]
     },
     "metadata": {
      "needs_background": "light"
     },
     "output_type": "display_data"
    }
   ],
   "source": [
    "import keras\n",
    "import tensorflow as tf\n",
    "inputa=keras.layers.Input((300,))\n",
    "inputn=keras.layers.Input((300,))\n",
    "inputb=keras.layers.Input((300,))\n",
    "unit_num=300\n",
    "\n",
    "T=keras.layers.Dense(unit_num,activation='relu')\n",
    "weix=T(inputa)\n",
    "x=keras.layers.dot([weix,weix],axes=1)\n",
    "n=T(inputn)\n",
    "b=T(inputb)\n",
    "lamb=keras.layers.dot([n,b],axes=1)\n",
    "lamb_result=keras.layers.Lambda(lambda x: x*0.6)(lamb)\n",
    "model=keras.Model([inputa,inputn,inputb],x)\n",
    "def custom_loss(layer):\n",
    "    def loss(y_true,y_pred):\n",
    "        return keras.backend.mean(keras.backend.square(y_pred-y_true)+keras.backend.square(layer),axis=-1)\n",
    "    return loss\n",
    "optimizer=tf.keras.optimizers.RMSprop(0.0001)\n",
    "model.compile(optimizer=optimizer,loss=custom_loss(lamb_result),metrics=['accuracy'])\n",
    "model.summary()\n",
    "model.fit([w_100,n_100_vec,b_100_vec],label,epochs=80,batch_size=20)\n",
    "loss,accuracy=model.evaluate([w_100,n_100_vec,b_100_vec],label)\n",
    "print('Accuracy: %f'%(accuracy*100))\n",
    "weight=model.get_weights()[0]"
   ]
  },
  {
   "cell_type": "code",
   "execution_count": null,
   "metadata": {},
   "outputs": [],
   "source": [
    "weight=np.load('/home/')"
   ]
  },
  {
   "cell_type": "code",
   "execution_count": 388,
   "metadata": {
    "scrolled": false
   },
   "outputs": [
    {
     "data": {
      "image/png": "[encoded data removed]",
      "text/plain": [
       "<Figure size 1296x720 with 1 Axes>"
      ]
     },
     "metadata": {
      "needs_background": "light"
     },
     "output_type": "display_data"
    }
   ],
   "source": [
    "#neutral_word=['powerful','programmer','angel','physic','babysitter','sing','leader','taller','sewing','football','dance','steals','effect','trips','homemaker','champion','flirt','nuclear','yard','brilliant','genius']\n",
    "neutral_word=['sewing','football','dance','steals','effect','trips','homemaker','champion','flirt','nuclear','yard','brilliant','genius']\n",
    "bias_neu_sub=[]\n",
    "sdebias_neu_sub=[]\n",
    "for item in neutral_word:\n",
    "    u_item=unit(w[item])\n",
    "    sreembed=unit(np.dot(u_item,weight))\n",
    "    bias_neu_sub.append(np.abs(direct_cos_bias(u_item,subspace)))#absolut values \n",
    "    sdebias_neu_sub.append(np.abs(direct_cos_bias(sreembed,subspace)))# absolut value for plotiing\n",
    "bias_neu_sub=np.asarray(bias_neu_sub)\n",
    "sdebias_neu_sub=np.asarray(sdebias_neu_sub)\n",
    "\n",
    "x = np.arange(len(neutral_word))  # the label locations\n",
    "width = 0.35  # the width of the bars\n",
    "\n",
    "fig, ax = plt.subplots(figsize=(18,10))\n",
    "rects1 = ax.bar(x - width/2, bias_neu_sub, width, label='neutral')\n",
    "rects2 = ax.bar(x + width/2, sdebias_neu_sub, width, label='soft_re_neutral')\n",
    "\n",
    "# Add some text for labels, title and custom x-axis tick labels, etc.\n",
    "ax.set_ylabel('Direct bias cos similarity')\n",
    "ax.set_title('Soft debias: projecion of more sampled neutral word on gender subspace_labmda=0.8')\n",
    "ax.tick_params(axis='x', which='major', pad=15)\n",
    "ax.set_xticks(x)\n",
    "ax.set_xticklabels(neutral_word)\n",
    "ax.legend()\n",
    "\n",
    "#autolabel(rects1)\n",
    "#autolabel(rects2)\n",
    "\n",
    "fig.tight_layout()\n",
    "\n",
    "plt.show()"
   ]
  },
  {
   "cell_type": "code",
   "execution_count": null,
   "metadata": {},
   "outputs": [],
   "source": [
    "for item in neutral_word:\n",
    "    u_item=unit(w[item])\n",
    "    sreembed=unit(np.dot(u_item,weight))\n",
    "    bias_neu_sub.append(np.abs(direct_cos_bias(u_item,subspace)))#absolut values \n",
    "    sdebias_neu_sub.append(np.abs(direct_cos_bias(sreembed,subspace)))# absolut value for plotiing"
   ]
  },
  {
   "cell_type": "code",
   "execution_count": null,
   "metadata": {},
   "outputs": [],
   "source": [
    "neutral_word=['sewing','football','dance','steals','effect','trips','homemaker','champion','flirt','nuclear','yard','brilliant','genius']\n",
    "bias_neu_sub=[]\n",
    "sdebias_neu_sub=[]\n",
    "for item in neutral_word:\n",
    "    u_item=unit(w[item])\n",
    "    sreembed=unit(np.dot(u_item,weight))\n",
    "    bias_neu_sub.append(np.abs(direct_cos_bias(u_item,subspace)))#absolut values \n",
    "    sdebias_neu_sub.append(np.abs(direct_cos_bias(sreembed,subspace)))# absolut value for plotiing\n",
    "bias_neu_sub=np.asarray(bias_neu_sub)\n",
    "sdebias_neu_sub=np.asarray(sdebias_neu_sub)\n",
    "\n",
    "x = np.arange(len(neutral_word))  # the label locations\n",
    "width = 0.35  # the width of the bars\n",
    "\n",
    "fig, ax = plt.subplots(figsize=(18,10))\n",
    "rects1 = ax.bar(x - width/2, bias_neu_sub, width, label='neutral')\n",
    "rects2 = ax.bar(x + width/2, sdebias_neu_sub, width, label='soft_re_neutral')\n",
    "rects3 = ax.bar()\n",
    "\n",
    "# Add some text for labels, title and custom x-axis tick labels, etc.\n",
    "ax.set_ylabel('Direct bias cos similarity')\n",
    "ax.set_title('Soft debias: projecion of more sampled neutral word on gender subspace_labmda=0.8')\n",
    "ax.tick_params(axis='x', which='major', pad=15)\n",
    "ax.set_xticks(x)\n",
    "ax.set_xticklabels(neutral_word)\n",
    "ax.legend()\n",
    "\n",
    "#autolabel(rects1)\n",
    "#autolabel(rects2)\n",
    "\n",
    "fig.tight_layout()\n",
    "\n",
    "plt.show()"
   ]
  },
  {
   "cell_type": "code",
   "execution_count": 431,
   "metadata": {},
   "outputs": [],
   "source": [
    "testword=unit(w['taller'])\n",
    "e1=unit(w['he'])\n",
    "e2=unit(w['she'])\n",
    "r1_T=unit(np.dot(e1,weight))\n",
    "r2_T=unit(np.dot(e2,weight))\n",
    "retestword=unit(np.dot(testword,weight))\n"
   ]
  },
  {
   "cell_type": "code",
   "execution_count": 345,
   "metadata": {},
   "outputs": [],
   "source": [
    "origi=direct_cos_bias(testword,subspace)# bias on subspace\n",
    "reorigi=direct_cos_bias(retestword,subspace)"
   ]
  },
  {
   "cell_type": "code",
   "execution_count": 346,
   "metadata": {},
   "outputs": [
    {
     "data": {
      "text/plain": [
       "0.102323994"
      ]
     },
     "execution_count": 346,
     "metadata": {},
     "output_type": "execute_result"
    }
   ],
   "source": [
    "origi"
   ]
  },
  {
   "cell_type": "code",
   "execution_count": 347,
   "metadata": {},
   "outputs": [
    {
     "data": {
      "text/plain": [
       "0.024770053"
      ]
     },
     "execution_count": 347,
     "metadata": {},
     "output_type": "execute_result"
    }
   ],
   "source": [
    "reorigi"
   ]
  },
  {
   "cell_type": "code",
   "execution_count": 91,
   "metadata": {},
   "outputs": [],
   "source": [
    "#weight_2_breast=weight"
   ]
  },
  {
   "cell_type": "code",
   "execution_count": 99,
   "metadata": {},
   "outputs": [],
   "source": [
    "#weight_8_breast=weight"
   ]
  },
  {
   "cell_type": "code",
   "execution_count": 275,
   "metadata": {},
   "outputs": [],
   "source": [
    "weight_6_good_perform=weight"
   ]
  },
  {
   "cell_type": "code",
   "execution_count": 276,
   "metadata": {},
   "outputs": [],
   "source": [
    "np.save('/home/senhan/Documents/condapython/weight_6_goof_perform.npy',weight)"
   ]
  },
  {
   "cell_type": "code",
   "execution_count": 283,
   "metadata": {},
   "outputs": [
    {
     "data": {
      "text/plain": [
       "array([[-0.01048656, -0.08455277,  0.0859512 , ..., -0.00822108,\n",
       "        -0.02325639, -0.09722653],\n",
       "       [-0.02531283,  0.0125734 , -0.07865039, ...,  0.07328708,\n",
       "         0.05232848,  0.02113007],\n",
       "       [-0.03551973,  0.06548864, -0.0007488 , ...,  0.08263781,\n",
       "         0.03393481, -0.09226647],\n",
       "       ...,\n",
       "       [-0.01005869, -0.02479704,  0.03851292, ..., -0.05345914,\n",
       "         0.00227987,  0.02846359],\n",
       "       [-0.05630827, -0.0194666 , -0.06528523, ...,  0.05774571,\n",
       "        -0.03807454,  0.09476996],\n",
       "       [ 0.07084772,  0.05161479,  0.06479114, ..., -0.0654707 ,\n",
       "         0.04555807,  0.06877405]], dtype=float32)"
      ]
     },
     "execution_count": 283,
     "metadata": {},
     "output_type": "execute_result"
    }
   ],
   "source": [
    "data=np.load('/home/senhan/Documents/condapython/weight_8_goof_perform.npy')\n",
    "data"
   ]
  },
  {
   "cell_type": "code",
   "execution_count": 39,
   "metadata": {},
   "outputs": [],
   "source": [
    "data=np.load('/home/senhan/Documents/condapython/weight_8_goof_perform.npy')\n",
    "weight=data"
   ]
  },
  {
   "cell_type": "code",
   "execution_count": 40,
   "metadata": {
    "scrolled": false
   },
   "outputs": [
    {
     "data": {
      "image/png": "[encoded data removed]",
      "text/plain": [
       "<Figure size 1440x720 with 1 Axes>"
      ]
     },
     "metadata": {
      "needs_background": "light"
     },
     "output_type": "display_data"
    }
   ],
   "source": [
    "#neutral_word=['powerful','programmer','angel','physic','babysitter','sing','leader','taller','sewing','football','dance','steals','effect','trips','homemaker','champion','flirt','nuclear','yard','brilliant','genius']\n",
    "neutral_word=['sewing','football','dance','steals','effect','trips','homemaker','champion','flirt','nuclear','yard','brilliant','genius']\n",
    "bias_neu_sub=[]\n",
    "sdebias_neu_sub=[]\n",
    "for item in neutral_word:\n",
    "    u_item=unit(w[item])\n",
    "    sreembed=unit(np.dot(u_item,weight))\n",
    "    bias_neu_sub.append(np.abs(direct_cos_bias(u_item,subspace)))#absolut values \n",
    "    sdebias_neu_sub.append(np.abs(direct_cos_bias(sreembed,subspace)))# absolut value for plotiing\n",
    "bias_neu_sub=np.asarray(bias_neu_sub)\n",
    "sdebias_neu_sub=np.asarray(sdebias_neu_sub)\n",
    "\n",
    "x = np.arange(len(neutral_word))  # the label locations\n",
    "width = 0.35  # the width of the bars\n",
    "\n",
    "fig, ax = plt.subplots(figsize=(20,10))\n",
    "rects1 = ax.bar(x - width/2, bias_neu_sub, width, label='Before debias')\n",
    "rects2 = ax.bar(x + width/2, sdebias_neu_sub, width, label='After debias')\n",
    "\n",
    "# Add some text for labels, title and custom x-axis tick labels, etc.\n",
    "ax.set_ylabel('Direct bias cos similarity',font)\n",
    "ax.set_title('Soft debias: projecion of sampled neutral word on gender subspace_labmda=0.8',font)\n",
    "ax.tick_params(axis='x', which='major', pad=15)\n",
    "ax.set_xticks(x)\n",
    "ax.set_xticklabels(neutral_word)\n",
    "ax.legend()\n",
    "\n",
    "#autolabel(rects1)\n",
    "#autolabel(rects2)\n",
    "\n",
    "fig.tight_layout()\n",
    "\n",
    "plt.show()\n"
   ]
  },
  {
   "cell_type": "code",
   "execution_count": 585,
   "metadata": {},
   "outputs": [
    {
     "data": {
      "text/plain": [
       "1.0"
      ]
     },
     "execution_count": 585,
     "metadata": {},
     "output_type": "execute_result"
    }
   ],
   "source": []
  },
  {
   "cell_type": "code",
   "execution_count": 611,
   "metadata": {},
   "outputs": [
    {
     "name": "stdout",
     "output_type": "stream",
     "text": [
      "[t-SNE] Computing 4 nearest neighbors...\n",
      "[t-SNE] Indexed 5 samples in 0.000s...\n",
      "[t-SNE] Computed neighbors for 5 samples in 0.001s...\n",
      "[t-SNE] Computed conditional probabilities for sample 5 / 5\n",
      "[t-SNE] Mean sigma: 1125899906842624.000000\n",
      "[t-SNE] KL divergence after 250 iterations with early exaggeration: 44.798969\n",
      "[t-SNE] KL divergence after 300 iterations: 0.116492\n"
     ]
    },
    {
     "data": {
      "image/png": "[encoded data removed]",
      "text/plain": [
       "<Figure size 432x288 with 1 Axes>"
      ]
     },
     "metadata": {
      "needs_background": "light"
     },
     "output_type": "display_data"
    }
   ],
   "source": [
    "from sklearn.manifold import TSNE#atplotlib inline\n",
    "import matplotlib.pyplot as plt\n",
    "import matplotlib\n",
    "\n",
    "e1=unit(w['he'])\n",
    "e2=unit(w['she'])\n",
    "neural_word=unit(w['football'])\n",
    "rembed_word=neural_re_embedding(neural_word,subspace)\n",
    "matrix=np.asarray([neural_word,rembed_word,subspace,e1,e2])\n",
    "#matrix=np.asarray([rembed_word,neural_word,subspace])\n",
    "#matrix=np.asarray([rembed_word,subspace])\n",
    "#matrix=np.asarray([neural_word,subspace])\n",
    "\n",
    "tsne=TSNE(n_components=2,verbose=1,perplexity=40,n_iter=300)\n",
    "tsne_results=tsne.fit_transform(matrix)\n",
    "xs=tsne_results[:,0]\n",
    "ys=tsne_results[:,1]\n",
    "plt.plot(xs,ys,'ob')\n",
    "labels=['football','re_homemaker','subspace','he','she']\n",
    "i=0\n",
    "for x,y in zip(xs,ys):\n",
    "    label=labels[i]\n",
    "    i=i+1\n",
    "    plt.annotate(label,(x,y),textcoords='offset points',xytext=(0,10),ha='center')\n",
    "\n",
    "\n",
    "plt.show()"
   ]
  },
  {
   "cell_type": "code",
   "execution_count": 610,
   "metadata": {},
   "outputs": [
    {
     "data": {
      "text/plain": [
       "array([[ 127.58522 , -148.51982 ],\n",
       "       [ 182.12758 ,  -31.743443],\n",
       "       [  21.346842,  -77.38952 ]], dtype=float32)"
      ]
     },
     "execution_count": 610,
     "metadata": {},
     "output_type": "execute_result"
    }
   ],
   "source": [
    "tsne_results[2:]"
   ]
  },
  {
   "cell_type": "code",
   "execution_count": 587,
   "metadata": {},
   "outputs": [
    {
     "data": {
      "text/plain": [
       "array([[ 83.51257  , 216.59436  ],\n",
       "       [ 97.37293  , 277.59604  ],\n",
       "       [ 54.347183 , 320.08487  ],\n",
       "       [ -2.4269118, 293.91302  ],\n",
       "       [ 27.28979  , 241.2509   ]], dtype=float32)"
      ]
     },
     "execution_count": 587,
     "metadata": {},
     "output_type": "execute_result"
    }
   ],
   "source": [
    "tsne_results"
   ]
  },
  {
   "cell_type": "code",
   "execution_count": 612,
   "metadata": {
    "scrolled": true
   },
   "outputs": [
    {
     "data": {
      "image/png": "[encoded data removed]",
      "text/plain": [
       "<Figure size 432x288 with 1 Axes>"
      ]
     },
     "metadata": {
      "needs_background": "light"
     },
     "output_type": "display_data"
    }
   ],
   "source": [
    "sample=tsne_results[2:]\n",
    "xs=sample[:,0]\n",
    "ys=sample[:,1]\n",
    "plt.plot(xs,ys,'ob')\n",
    "plt.gca().title.set_position([.5,1.05])\n",
    "plt.title('Tsne dimension reduction n_components=2',font=)\n",
    "labels=['subspace','he','she']\n",
    "i=0\n",
    "for x,y in zip(xs,ys):\n",
    "    label=labels[i]\n",
    "    i=i+1\n",
    "    plt.annotate(label,(x,y),textcoords='offset points',xytext=(0,10),ha='center')\n",
    "\n",
    "plt.plot(tsne_results[0][0],tsne_results[0][1],'or')\n",
    "plt.annotate('football',(tsne_results[0][0],tsne_results[0][1]),textcoords='offset points',xytext=(0,10),ha='center')\n",
    "\n",
    "plt.plot(tsne_results[1][0],tsne_results[1][1],'ok')\n",
    "plt.annotate('re_football',(tsne_results[1][0],tsne_results[1][1]),textcoords='offset points',xytext=(0,10),ha='center')\n",
    "\n",
    "plt.show()"
   ]
  },
  {
   "cell_type": "code",
   "execution_count": 573,
   "metadata": {},
   "outputs": [
    {
     "data": {
      "image/png": "[encoded data removed]",
      "text/plain": [
       "<Figure size 432x288 with 1 Axes>"
      ]
     },
     "metadata": {
      "needs_background": "light"
     },
     "output_type": "display_data"
    },
    {
     "data": {
      "text/plain": [
       "0.99999994"
      ]
     },
     "execution_count": 573,
     "metadata": {},
     "output_type": "execute_result"
    }
   ],
   "source": [
    "u_tsne_re=tsne_results\n",
    "for i in range(len(u_tsne_re)):\n",
    "    u_tsne_re[i]=unit(u_tsne_re[i])\n",
    "xs=u_tsne_re[:,0]\n",
    "ys=u_tsne_re[:,1]\n",
    "plt.plot(xs,ys,'ob')\n",
    "labels=['homemaker','re_homemaker','subspace','he','she']\n",
    "i=0\n",
    "for x,y in zip(xs,ys):\n",
    "    label=labels[i]\n",
    "    i=i+1\n",
    "    plt.annotate(label,(x,y),textcoords='offset points',xytext=(0,10),ha='center')\n",
    "\n",
    "\n",
    "plt.show()\n",
    "\n"
   ]
  },
  {
   "cell_type": "code",
   "execution_count": 544,
   "metadata": {
    "scrolled": false
   },
   "outputs": [
    {
     "data": {
      "image/png": "[encoded data removed]",
      "text/plain": [
       "<Figure size 432x288 with 1 Axes>"
      ]
     },
     "metadata": {
      "needs_background": "light"
     },
     "output_type": "display_data"
    }
   ],
   "source": [
    "#plt.plot(tsne_results[0],'o',tsne_results[1],'o',tsne_results[2],'o',tsne_results[3],'o',tsne_results[4],'o')\n",
    "n=tsne_results[0]\n",
    "rn=tsne_results[1]\n",
    "sb=tsne_results[2]\n",
    "e_1=tsne_results[3]\n",
    "e_2=tsne_results[4]\n",
    "\n",
    "xs=tsne_results[:,0]\n",
    "ys=tsne_results[:,1]\n",
    "plt.plot(xs,ys,'ob')\n",
    "labels=['homemaker','re_homemaker','subspace','he','she']\n",
    "i=0\n",
    "for x,y in zip(xs,ys):\n",
    "    label=labels[i]\n",
    "    i=i+1\n",
    "    plt.annotate(label,(x,y),textcoords='offset points',xytext=(0,10),ha='center')\n",
    "\n",
    "\n",
    "plt.show()\n",
    "\n"
   ]
  },
  {
   "cell_type": "code",
   "execution_count": 450,
   "metadata": {},
   "outputs": [],
   "source": [
    "testword=unit(w['breast'])\n",
    "e1=unit(w['he'])\n",
    "e2=unit(w['she'])\n",
    "\n",
    "#harddebias\n",
    "hretestword=neural_re_embedding(testword,subspace)#neutralize\n",
    "hr1,hr2=equalize(e1,e2,subspace)\n",
    "\n",
    "hdist=distance(testword,e1,e2)\n",
    "hrdist=distance(hretestword,hr1,hr2)\n",
    "\n",
    "# softdebias\n",
    "sretestword=unit(np.dot(testword,weight))\n",
    "sr1=unit(np.dot(e1,weight))\n",
    "sr2=unit(np.dot(e2,weight))\n",
    "\n",
    "sdist=distance(testword,e1,e2)\n",
    "srdist=distance(sretestword,sr1,sr2)"
   ]
  },
  {
   "cell_type": "code",
   "execution_count": 475,
   "metadata": {},
   "outputs": [
    {
     "data": {
      "text/plain": [
       "(300,)"
      ]
     },
     "execution_count": 475,
     "metadata": {},
     "output_type": "execute_result"
    }
   ],
   "source": [
    "np.shape(subspace)"
   ]
  },
  {
   "cell_type": "code",
   "execution_count": null,
   "metadata": {},
   "outputs": [],
   "source": []
  },
  {
   "cell_type": "code",
   "execution_count": 29,
   "metadata": {},
   "outputs": [],
   "source": [
    "# four bars\n",
    "def fourbars_hard_debias_eval(neutralwords,eword1,eword2,subspace):\n",
    "    #beforedist=[]\n",
    "    #afterdist=[]\n",
    "    dist_he=[]\n",
    "    dist_she=[]\n",
    "    hdist_he=[]\n",
    "    hdist_she=[]\n",
    "    for testword in neutralwords:\n",
    "        testword=unit(w[testword])#homemaker\n",
    "        e1=unit(eword1)#he\n",
    "        e2=unit(eword2)#she\n",
    "#harddebias\n",
    "        hretestword=neural_re_embedding(testword,subspace)#neutralize\n",
    "        hr1,hr2=equalize(e1,e2,subspace)\n",
    "        \n",
    "        dist_he.append(direct_cos_bias(testword,e1))\n",
    "        dist_she.append(direct_cos_bias(testword,e2))\n",
    "        hdist_he.append(direct_cos_bias(hretestword,hr1))\n",
    "        hdist_she.append(direct_cos_bias(hretestword,hr2))\n",
    "        #hdist=distance(testword,e1,e2)\n",
    "        #hrdist=distance(hretestword,hr1,hr2)\n",
    "        #beforedist.append(np.abs(hdist[0]-hdist[1]))\n",
    "        #afterdist.append(np.abs(hrdist[0]-hrdist[1]))\n",
    "    return dist_he,dist_she,hdist_he,hdist_she\n",
    "\n",
    "\n",
    "def fourbars_soft_debias_eval(neutralwords,eword1,eword2,weight):\n",
    "    dist_he=[]\n",
    "    dist_she=[]\n",
    "    sdist_he=[]\n",
    "    sdist_she=[]\n",
    "    for testword in neutralwords:\n",
    "        testword=unit(w[testword])\n",
    "        e1=unit(eword1)\n",
    "        e2=unit(eword2)\n",
    "#harddebias\n",
    "        sretestword=unit(np.dot(testword,weight))\n",
    "        sr1=unit(np.dot(e1,weight))\n",
    "        sr2=unit(np.dot(e2,weight))\n",
    "\n",
    "        dist_he.append(direct_cos_bias(testword,e1))\n",
    "        dist_she.append(direct_cos_bias(testword,e2))\n",
    "        sdist_he.append(direct_cos_bias(sretestword,sr1))\n",
    "        sdist_she.append(direct_cos_bias(sretestword,sr2))\n",
    "    return dist_he,dist_she,sdist_he,sdist_she\n"
   ]
  },
  {
   "cell_type": "code",
   "execution_count": 30,
   "metadata": {},
   "outputs": [],
   "source": [
    "he=direct_cos_bias(unit(w['football']),unit(w['he']))\n",
    "she=direct_cos_bias(unit(w['football']),unit(w['she']))\n",
    "ninety=direct_cos_bias([0,1],[2,0])\n",
    "zero=direct_cos_bias([0,13],[0,100])"
   ]
  },
  {
   "cell_type": "code",
   "execution_count": 31,
   "metadata": {},
   "outputs": [
    {
     "name": "stdout",
     "output_type": "stream",
     "text": [
      "0.21284315\n",
      "0.029604597\n",
      "0.0\n",
      "1.0\n"
     ]
    }
   ],
   "source": [
    "print(he)\n",
    "print(she)\n",
    "print(ninety)\n",
    "print(zero)"
   ]
  },
  {
   "cell_type": "code",
   "execution_count": 32,
   "metadata": {},
   "outputs": [
    {
     "data": {
      "text/plain": [
       "1.0"
      ]
     },
     "execution_count": 32,
     "metadata": {},
     "output_type": "execute_result"
    }
   ],
   "source": [
    "np.dot([0,1],[0,2])/(np.linalg.norm([0,1])*np.linalg.norm([0,2]))"
   ]
  },
  {
   "cell_type": "code",
   "execution_count": 33,
   "metadata": {},
   "outputs": [],
   "source": [
    "neutral_word=['sewing','football','dance','steals','effect','trips','homemaker','champion','flirt','nuclear','yard','brilliant','genius']\n",
    "ahe,ashe,bhe,bshe=fourbars_hard_debias_eval(neutral_word,w['he'],w['she'],subspace)"
   ]
  },
  {
   "cell_type": "code",
   "execution_count": 37,
   "metadata": {
    "scrolled": false
   },
   "outputs": [
    {
     "data": {
      "image/png": "[encoded data removed]",
      "text/plain": [
       "<Figure size 1080x720 with 1 Axes>"
      ]
     },
     "metadata": {
      "needs_background": "light"
     },
     "output_type": "display_data"
    }
   ],
   "source": [
    "ahe\n",
    "ashe\n",
    "bhe\n",
    "bshe\n",
    "\n",
    "x = np.arange(len(neutral_word))  # the label locations\n",
    "width = 0.35  # the width of the bars\n",
    "\n",
    "fig, ax = plt.subplots(figsize=(15,10))\n",
    "rects1 = ax.bar(x - width, ahe, width/2, label='before_neutral_he')\n",
    "rects2 = ax.bar(x - width/2, ashe, width/2, label='before_neutral_she')\n",
    "rects3 = ax.bar(x + width/2, bhe, width/2, label='after_neutral_she')\n",
    "rects4 = ax.bar(x + width, bshe, width/2, label='after_neutral_he')\n",
    "# Add some text for labels, title and custom x-axis tick labels, etc.\n",
    "ax.set_ylabel('Direct bias cos similarity',font)\n",
    "ax.set_title('Hard debias: projecion of sampled neutral word on gender subspace',font)\n",
    "ax.tick_params(axis='x', which='major', pad=15)\n",
    "ax.set_xticks(x)\n",
    "ax.set_xticklabels(neutral_word)\n",
    "ax.legend()\n",
    "\n",
    "#autolabel(rects1)\n",
    "#autolabel(rects2)\n",
    "\n",
    "fig.tight_layout()\n",
    "\n",
    "plt.show()"
   ]
  },
  {
   "cell_type": "code",
   "execution_count": 41,
   "metadata": {
    "scrolled": false
   },
   "outputs": [
    {
     "data": {
      "image/png": "[encoded data removed]",
      "text/plain": [
       "<Figure size 1080x720 with 1 Axes>"
      ]
     },
     "metadata": {
      "needs_background": "light"
     },
     "output_type": "display_data"
    }
   ],
   "source": [
    "weight=np.load('/home/senhan/Documents/condapython/weight_8_goof_perform.npy')\n",
    "ahe,ashe,sohe,soshe=fourbars_soft_debias_eval(neutral_word,w['he'],w['she'],weight)\n",
    "\n",
    "x = np.arange(len(neutral_word))  # the label locations\n",
    "width = 0.35  # the width of the bars\n",
    "\n",
    "fig, ax = plt.subplots(figsize=(15,10))\n",
    "rects1 = ax.bar(x - width, ahe, width/2, label='before_neutral_he')\n",
    "rects2 = ax.bar(x - width/2, ashe, width/2, label='before_neutral_she')\n",
    "rects3 = ax.bar(x + width/2, sohe, width/2, label='after_neutral_he')\n",
    "rects4 = ax.bar(x + width, soshe, width/2, label='after_neutral_she')\n",
    "# Add some text for labels, title and custom x-axis tick labels, etc.\n",
    "ax.set_ylabel('Direct bias cos similarity',font)\n",
    "ax.set_title('Soft debias: projecion of sampled neutral word on gender subspace',font)\n",
    "ax.tick_params(axis='x', which='major', pad=15)\n",
    "ax.set_xticks(x)\n",
    "ax.set_xticklabels(neutral_word)\n",
    "ax.legend()\n",
    "\n",
    "#autolabel(rects1)\n",
    "#autolabel(rects2)\n",
    "\n",
    "fig.tight_layout()\n",
    "\n",
    "plt.show()"
   ]
  },
  {
   "cell_type": "code",
   "execution_count": 507,
   "metadata": {},
   "outputs": [
    {
     "data": {
      "text/plain": [
       "[0.17421177,\n",
       " 0.22506583,\n",
       " 0.08990904,\n",
       " 0.27504507,\n",
       " 0.15748581,\n",
       " 0.23806052,\n",
       " 0.17609613,\n",
       " 0.27259803,\n",
       " 0.20911425,\n",
       " 0.05819067,\n",
       " 0.15512039,\n",
       " 0.32590517,\n",
       " 0.29121175]"
      ]
     },
     "execution_count": 507,
     "metadata": {},
     "output_type": "execute_result"
    }
   ],
   "source": [
    "sohe"
   ]
  },
  {
   "cell_type": "code",
   "execution_count": 279,
   "metadata": {},
   "outputs": [],
   "source": [
    "def hard_debias_eval(neutralwords,eword1,eword2):\n",
    "    beforedist=[]\n",
    "    afterdist=[]\n",
    "    for testword in neutralwords:\n",
    "        testword=unit(w[testword])\n",
    "        e1=unit(eword1)\n",
    "        e2=unit(eword2)\n",
    "#harddebias\n",
    "        hretestword=neural_re_embedding(testword,subspace)#neutralize\n",
    "        hr1,hr2=equalize(e1,e2,subspace)\n",
    "\n",
    "        hdist=distance(testword,e1,e2)\n",
    "        hrdist=distance(hretestword,hr1,hr2)\n",
    "        beforedist.append(np.abs(hdist[0]-hdist[1]))\n",
    "        afterdist.append(np.abs(hrdist[0]-hrdist[1]))\n",
    "    return beforedist,afterdist\n",
    "\n",
    "\n",
    "def soft_debias_eval(neutralwords,eword1,eword2,weight):\n",
    "    beforedist=[]\n",
    "    afterdist=[]\n",
    "    for testword in neutralwords:\n",
    "        testword=unit(w[testword])\n",
    "        e1=unit(eword1)\n",
    "        e2=unit(eword2)\n",
    "#harddebias\n",
    "        sretestword=unit(np.dot(testword,weight))\n",
    "        sr1=unit(np.dot(e1,weight))\n",
    "        sr2=unit(np.dot(e2,weight))\n",
    "\n",
    "        sdist=distance(testword,e1,e2)\n",
    "        srdist=distance(sretestword,sr1,sr2)\n",
    "        beforedist.append(np.abs(sdist[0]-sdist[1]))\n",
    "        afterdist.append(np.abs(srdist[0]-srdist[1]))\n",
    "    return beforedist,afterdist\n"
   ]
  },
  {
   "cell_type": "code",
   "execution_count": 624,
   "metadata": {},
   "outputs": [],
   "source": [
    "a,b=hard_debias_eval(neutral_word,w['man'],w['woman'])"
   ]
  },
  {
   "cell_type": "code",
   "execution_count": 281,
   "metadata": {},
   "outputs": [
    {
     "data": {
      "text/plain": [
       "[0.106086135,\n",
       " 0.116081476,\n",
       " 0.0612123,\n",
       " 0.0035272837,\n",
       " 0.04250431,\n",
       " 0.008230686,\n",
       " 0.159778,\n",
       " 0.030205965,\n",
       " 0.04599178,\n",
       " 0.019836307,\n",
       " 0.059933305,\n",
       " 0.088428855,\n",
       " 0.14135206]"
      ]
     },
     "execution_count": 281,
     "metadata": {},
     "output_type": "execute_result"
    }
   ],
   "source": [
    "a"
   ]
  },
  {
   "cell_type": "code",
   "execution_count": 282,
   "metadata": {},
   "outputs": [
    {
     "data": {
      "text/plain": [
       "[0.0,\n",
       " 1.1920929e-07,\n",
       " 1.1920929e-07,\n",
       " 0.0,\n",
       " 1.1920929e-07,\n",
       " 0.0,\n",
       " 0.0,\n",
       " 0.0,\n",
       " 0.0,\n",
       " 0.0,\n",
       " 1.1920929e-07,\n",
       " 0.0,\n",
       " 0.0]"
      ]
     },
     "execution_count": 282,
     "metadata": {},
     "output_type": "execute_result"
    }
   ],
   "source": [
    "b"
   ]
  },
  {
   "cell_type": "code",
   "execution_count": 286,
   "metadata": {},
   "outputs": [],
   "source": [
    "data=np.load('/home/senhan/Documents/condapython/weight_8_goof_perform.npy')\n",
    "c,d=soft_debias_eval(neutral_word,w['man'],w['woman'],data)"
   ]
  },
  {
   "cell_type": "code",
   "execution_count": 626,
   "metadata": {},
   "outputs": [
    {
     "data": {
      "text/plain": [
       "[0.106086135,\n",
       " 0.116081476,\n",
       " 0.0612123,\n",
       " 0.0035272837,\n",
       " 0.04250431,\n",
       " 0.008230686,\n",
       " 0.159778,\n",
       " 0.030205965,\n",
       " 0.04599178,\n",
       " 0.019836307,\n",
       " 0.059933305,\n",
       " 0.088428855,\n",
       " 0.14135206]"
      ]
     },
     "execution_count": 626,
     "metadata": {},
     "output_type": "execute_result"
    }
   ],
   "source": [
    "c"
   ]
  },
  {
   "cell_type": "code",
   "execution_count": 627,
   "metadata": {},
   "outputs": [
    {
     "data": {
      "text/plain": [
       "[0.07056022,\n",
       " 0.13838315,\n",
       " 0.054746866,\n",
       " 0.01819408,\n",
       " 0.036788344,\n",
       " 0.03677857,\n",
       " 0.116248965,\n",
       " 0.057704568,\n",
       " 0.04732585,\n",
       " 0.021049976,\n",
       " 0.095327854,\n",
       " 0.09810233,\n",
       " 0.13787568]"
      ]
     },
     "execution_count": 627,
     "metadata": {},
     "output_type": "execute_result"
    }
   ],
   "source": [
    "d"
   ]
  },
  {
   "cell_type": "code",
   "execution_count": 36,
   "metadata": {
    "scrolled": true
   },
   "outputs": [
    {
     "ename": "NameError",
     "evalue": "name 'a' is not defined",
     "output_type": "error",
     "traceback": [
      "\u001b[0;31m---------------------------------------------------------------------------\u001b[0m",
      "\u001b[0;31mNameError\u001b[0m                                 Traceback (most recent call last)",
      "\u001b[0;32m<ipython-input-36-dc3e3c84c3c5>\u001b[0m in \u001b[0;36m<module>\u001b[0;34m\u001b[0m\n\u001b[1;32m     12\u001b[0m \u001b[0;34m\u001b[0m\u001b[0m\n\u001b[1;32m     13\u001b[0m \u001b[0mplt\u001b[0m\u001b[0;34m.\u001b[0m\u001b[0mfigure\u001b[0m\u001b[0;34m(\u001b[0m\u001b[0mfigsize\u001b[0m\u001b[0;34m=\u001b[0m\u001b[0;34m(\u001b[0m\u001b[0;36m15\u001b[0m\u001b[0;34m,\u001b[0m\u001b[0;36m10\u001b[0m\u001b[0;34m)\u001b[0m\u001b[0;34m)\u001b[0m\u001b[0;34m\u001b[0m\u001b[0;34m\u001b[0m\u001b[0m\n\u001b[0;32m---> 14\u001b[0;31m \u001b[0mplt\u001b[0m\u001b[0;34m.\u001b[0m\u001b[0mplot\u001b[0m\u001b[0;34m(\u001b[0m\u001b[0mx\u001b[0m\u001b[0;34m,\u001b[0m \u001b[0ma\u001b[0m\u001b[0;34m,\u001b[0m\u001b[0;34m'og'\u001b[0m\u001b[0;34m,\u001b[0m\u001b[0mlabel\u001b[0m\u001b[0;34m=\u001b[0m\u001b[0;34m'Before harddebias'\u001b[0m\u001b[0;34m,\u001b[0m\u001b[0mmarkersize\u001b[0m\u001b[0;34m=\u001b[0m\u001b[0;36m10\u001b[0m\u001b[0;34m)\u001b[0m\u001b[0;34m\u001b[0m\u001b[0;34m\u001b[0m\u001b[0m\n\u001b[0m\u001b[1;32m     15\u001b[0m \u001b[0mplt\u001b[0m\u001b[0;34m.\u001b[0m\u001b[0mplot\u001b[0m\u001b[0;34m(\u001b[0m\u001b[0mx\u001b[0m\u001b[0;34m,\u001b[0m \u001b[0mb\u001b[0m\u001b[0;34m,\u001b[0m\u001b[0;34m'+r'\u001b[0m\u001b[0;34m,\u001b[0m\u001b[0mlabel\u001b[0m\u001b[0;34m=\u001b[0m\u001b[0;34m'After harddebias'\u001b[0m\u001b[0;34m,\u001b[0m\u001b[0mmarkersize\u001b[0m\u001b[0;34m=\u001b[0m\u001b[0;36m10\u001b[0m\u001b[0;34m)\u001b[0m\u001b[0;34m\u001b[0m\u001b[0;34m\u001b[0m\u001b[0m\n\u001b[1;32m     16\u001b[0m \u001b[0mplt\u001b[0m\u001b[0;34m.\u001b[0m\u001b[0mtick_params\u001b[0m\u001b[0;34m(\u001b[0m\u001b[0mpad\u001b[0m\u001b[0;34m=\u001b[0m\u001b[0;36m5\u001b[0m\u001b[0;34m)\u001b[0m\u001b[0;34m\u001b[0m\u001b[0;34m\u001b[0m\u001b[0m\n",
      "\u001b[0;31mNameError\u001b[0m: name 'a' is not defined"
     ]
    },
    {
     "data": {
      "text/plain": [
       "<Figure size 1080x720 with 0 Axes>"
      ]
     },
     "metadata": {},
     "output_type": "display_data"
    }
   ],
   "source": [
    "x = np.arange(len(neutral_word))  # the label locations\n",
    "width = 0.35  # the width of the bars\n",
    "\n",
    "\n",
    "\n",
    "font={\n",
    "    'family': 'serif',\n",
    "    #'color':  'blue',\n",
    "    'weight': 'normal',\n",
    "    'size': 16,\n",
    "}\n",
    "\n",
    "plt.figure(figsize=(15,10))\n",
    "plt.plot(x, a,'og',label='Before harddebias',markersize=10)\n",
    "plt.plot(x, b,'+r',label='After harddebias',markersize=10)\n",
    "plt.tick_params(pad=5)\n",
    "plt.title(\"Distance changes before and after harddebias\",fontdict=font)\n",
    "#plt.xlabel('Neutralword',fontdict=font)\n",
    "plt.ylabel(\"Dist[neutral word to 'man'] - Dist[neutral word to 'woman']\",fontdict=font)\n",
    "plt.tick_params(axis='x', which='major', pad=15)\n",
    "plt.xticks(x,neutral_word)\n",
    "plt.legend()\n",
    "#set_xticklabels(neutral_word)\n",
    "\n",
    "plt.show()"
   ]
  },
  {
   "cell_type": "code",
   "execution_count": 634,
   "metadata": {
    "scrolled": true
   },
   "outputs": [
    {
     "data": {
      "image/png": "[encoded data removed]",
      "text/plain": [
       "<Figure size 1080x720 with 1 Axes>"
      ]
     },
     "metadata": {
      "needs_background": "light"
     },
     "output_type": "display_data"
    }
   ],
   "source": [
    "x = np.arange(len(neutral_word))  # the label locations\n",
    "width = 0.35  # the width of the bars\n",
    "\n",
    "\n",
    "\n",
    "font={\n",
    "    'family': 'serif',\n",
    "    #'color':  'blue',\n",
    "    'weight': 'normal',\n",
    "    'size': 16,\n",
    "}\n",
    "\n",
    "plt.figure(figsize=(15,10))\n",
    "plt.plot(x, c,'og',label='Before softdebias',markersize=10)\n",
    "plt.plot(x, d,'^r',label='After softdebias',markersize=10)\n",
    "plt.tick_params(pad=5)\n",
    "plt.title(\"Distance changes before and after softdebias\",fontdict=font)\n",
    "#plt.xlabel('Neutralword',fontdict=font)\n",
    "plt.ylabel(\"Dist[neutral word to 'man'] - Dist[neutral word to 'woman']\",fontdict=font)\n",
    "plt.tick_params(axis='x', which='major', pad=15)\n",
    "plt.xticks(x,neutral_word)\n",
    "plt.legend()\n",
    "#set_xticklabels(neutral_word)\n",
    "\n",
    "plt.show()\n"
   ]
  },
  {
   "cell_type": "code",
   "execution_count": 387,
   "metadata": {},
   "outputs": [
    {
     "data": {
      "text/plain": [
       "array([ 0.0449282 , -0.04277595, -0.12267821,  0.06241523,  0.05057786,\n",
       "        0.09631315,  0.02609602, -0.06322232, -0.06026298,  0.0133843 ,\n",
       "        0.09200865,  0.00763376, -0.00716295, -0.0242128 , -0.04546626,\n",
       "        0.0742526 ,  0.03524308,  0.07640485,  0.01062673, -0.05299914,\n",
       "       -0.12214014, -0.0613391 ,  0.01963927, -0.01883218,  0.02354022,\n",
       "       -0.02044637, -0.06806488,  0.01298075, -0.03349438, -0.08770415,\n",
       "        0.0371263 , -0.06887197, -0.01331704,  0.02824827,  0.04196886,\n",
       "        0.01257721,  0.04519723,  0.04734948,  0.01802509, -0.00374962,\n",
       "       -0.00235402,  0.02058088,  0.05730363, -0.05246107, -0.05730363,\n",
       "       -0.02380926, -0.04788755,  0.14204845,  0.03228374,  0.07479066,\n",
       "        0.01567107,  0.02179152,  0.09631315,  0.02004282, -0.06241523,\n",
       "       -0.01910121, -0.01022318, -0.01990831,  0.00689392, -0.04654239,\n",
       "        0.02232959, -0.00161419, -0.03295632,  0.03820242,  0.10815052,\n",
       "        0.05622751, -0.00591869,  0.11084083,  0.06618166, -0.01324978,\n",
       "        0.16464706,  0.04331401, -0.02031185,  0.0898564 , -0.03080407,\n",
       "        0.07317647, -0.02313668, -0.05730363,  0.03201471,  0.0090798 ,\n",
       "        0.08017128,  0.09039447,  0.08931834,  0.04196886, -0.06456748,\n",
       "        0.1442007 , -0.06376038,  0.07210035,  0.13505363, -0.06322232,\n",
       "       -0.03874049, -0.12160208, -0.09362284,  0.05326817,  0.01372059,\n",
       "        0.08339965,  0.03900952,  0.00329563, -0.03053503, -0.01183737,\n",
       "       -0.06376038, -0.02259862,  0.04439014, -0.02380926, -0.03820242,\n",
       "       -0.04519723,  0.01883218,  0.00062634,  0.03658824, -0.04761851,\n",
       "        0.03793339, -0.03470502, -0.01277898, -0.03349438,  0.00679304,\n",
       "       -0.00669215, -0.12644464,  0.01123205,  0.13397752, -0.05326817,\n",
       "        0.04169983,  0.14204845, -0.04223789, -0.02004282, -0.0613391 ,\n",
       "        0.03900952,  0.04385208, -0.07317647,  0.06241523, -0.0159401 ,\n",
       "       -0.0328218 ,  0.00223632, -0.03188019, -0.00368236,  0.03658824,\n",
       "       -0.00928157, -0.09792734, -0.03605017,  0.03497405, -0.00450627,\n",
       "        0.02838279,  0.03766436,  0.0250199 , -0.0457353 , -0.00341333,\n",
       "        0.04977076, -0.06322232,  0.12052596, -0.06053201, -0.05811073,\n",
       "        0.04546626, -0.06295329,  0.02004282,  0.0570346 , -0.05273011,\n",
       "       -0.04304498, -0.00790279, -0.03497405,  0.05111592, -0.00050233,\n",
       "        0.01277898,  0.01520026,  0.01203914,  0.09200865,  0.00294253,\n",
       "        0.030266  , -0.04681142, -0.00662489,  0.07371453,  0.04331401,\n",
       "       -0.08339965,  0.00955061,  0.01721799, -0.07532872, -0.01432591,\n",
       "        0.04412111,  0.06537457,  0.00568328, -0.03524308,  0.02959343,\n",
       "       -0.09900346, -0.05945588,  0.05003979,  0.03053503,  0.08608997,\n",
       "       -0.02609602, -0.03847145,  0.05326817, -0.08878028, -0.00030686,\n",
       "       -0.02824827,  0.10492215,  0.03161116,  0.04035467,  0.00380007,\n",
       "        0.1269827 ,  0.02273313,  0.03174568,  0.01499849,  0.0328218 ,\n",
       "       -0.14635295, -0.03416695,  0.03524308, -0.03416695, -0.04439014,\n",
       "       -0.02528893, -0.00095842, -0.04304498,  0.10007959, -0.14635295,\n",
       "       -0.02058088,  0.00393458, -0.00894529, -0.00153011,  0.09954152,\n",
       "       -0.00551514, -0.13021107,  0.09954152, -0.0449282 ,  0.07640485,\n",
       "        0.09093253,  0.05165398,  0.06214619,  0.00393458,  0.04008564,\n",
       "       -0.04439014,  0.06160813, -0.06833391,  0.01459494, -0.01937024,\n",
       "       -0.02515441, -0.01345156, -0.04600433, -0.07532872, -0.00608683,\n",
       "       -0.02058088,  0.0699481 , -0.08232353, -0.08878028,  0.02004282,\n",
       "        0.015133  , -0.0250199 , -0.03605017, -0.03927855, -0.06268426,\n",
       "        0.03739533, -0.04089274, -0.06376038, -0.03739533, -0.0984654 ,\n",
       "        0.00280801,  0.00706207,  0.02811375,  0.02367474, -0.00457353,\n",
       "       -0.02649957, -0.06026298, -0.06779585, -0.04654239,  0.00723021,\n",
       "        0.01869766, -0.04734948,  0.04412111, -0.08178547,  0.04896367,\n",
       "        0.10922664,  0.01910121,  0.0855519 , -0.01277898,  0.06671973,\n",
       "        0.00679304, -0.04546626,  0.00307704, -0.04465917,  0.01432591,\n",
       "       -0.01587284, -0.02744118, -0.06053201,  0.00403547, -0.00316112,\n",
       "        0.00159737,  0.02475087, -0.08501384,  0.04519723, -0.03874049,\n",
       "       -0.00263987,  0.0047753 ,  0.02354022, -0.02206055,  0.17648444,\n",
       "       -0.01869766, -0.05434429, -0.11998789, -0.04950173, -0.05568945,\n",
       "        0.00531337,  0.03551211,  0.05891782,  0.1711038 ,  0.01748702],\n",
       "      dtype=float32)"
      ]
     },
     "execution_count": 387,
     "metadata": {},
     "output_type": "execute_result"
    }
   ],
   "source": [
    "neutral_word"
   ]
  },
  {
   "cell_type": "code",
   "execution_count": null,
   "metadata": {},
   "outputs": [],
   "source": []
  },
  {
   "cell_type": "code",
   "execution_count": null,
   "metadata": {},
   "outputs": [],
   "source": []
  },
  {
   "cell_type": "code",
   "execution_count": null,
   "metadata": {},
   "outputs": [],
   "source": []
  },
  {
   "cell_type": "code",
   "execution_count": null,
   "metadata": {},
   "outputs": [],
   "source": []
  },
  {
   "cell_type": "code",
   "execution_count": null,
   "metadata": {},
   "outputs": [],
   "source": []
  },
  {
   "cell_type": "code",
   "execution_count": null,
   "metadata": {},
   "outputs": [],
   "source": []
  },
  {
   "cell_type": "code",
   "execution_count": 46,
   "metadata": {},
   "outputs": [
    {
     "data": {
      "text/plain": [
       "array([[-263.7309  , -204.16566 ],\n",
       "       [ -28.02779 ,  610.8743  ],\n",
       "       [ 810.9236  ,   39.856396]], dtype=float32)"
      ]
     },
     "execution_count": 46,
     "metadata": {},
     "output_type": "execute_result"
    }
   ],
   "source": [
    "tsne_results"
   ]
  },
  {
   "cell_type": "code",
   "execution_count": null,
   "metadata": {},
   "outputs": [],
   "source": []
  },
  {
   "cell_type": "code",
   "execution_count": 51,
   "metadata": {},
   "outputs": [
    {
     "data": {
      "image/png": "[encoded data removed]",
      "text/plain": [
       "<Figure size 432x288 with 1 Axes>"
      ]
     },
     "metadata": {
      "needs_background": "light"
     },
     "output_type": "display_data"
    }
   ],
   "source": [
    "origin=[0],[0]\n",
    "plt.quiver(*origin,tsne_results[:,0],tsne_results[:,1],color=['b','r','g'],scale=100)\n",
    "plt.show()"
   ]
  },
  {
   "cell_type": "code",
   "execution_count": 35,
   "metadata": {},
   "outputs": [
    {
     "data": {
      "image/png": "[encoded data removed]",
      "text/plain": [
       "<Figure size 432x288 with 1 Axes>"
      ]
     },
     "metadata": {
      "needs_background": "light"
     },
     "output_type": "display_data"
    }
   ],
   "source": [
    "plt.quiver(*origin,tsne_results[:,0],tsne_results[:,1],color=['b','r','g'],scale=0.000001)\n",
    "plt.show()"
   ]
  },
  {
   "cell_type": "code",
   "execution_count": 39,
   "metadata": {},
   "outputs": [
    {
     "data": {
      "image/png": "[encoded data removed]",
      "text/plain": [
       "<Figure size 432x288 with 1 Axes>"
      ]
     },
     "metadata": {
      "needs_background": "light"
     },
     "output_type": "display_data"
    }
   ],
   "source": [
    "plt.quiver(*origin,tsne_results[:,0],tsne_results[:,1],color=['b','r'],scale=0.000001)\n",
    "plt.show()"
   ]
  },
  {
   "cell_type": "code",
   "execution_count": 42,
   "metadata": {},
   "outputs": [
    {
     "data": {
      "image/png": "[encoded data removed]",
      "text/plain": [
       "<Figure size 432x288 with 1 Axes>"
      ]
     },
     "metadata": {
      "needs_background": "light"
     },
     "output_type": "display_data"
    }
   ],
   "source": [
    "plt.quiver(*origin,tsne_results[:,0],tsne_results[:,1],color=['b','r','g'],scale=100)\n",
    "plt.show()"
   ]
  },
  {
   "cell_type": "code",
   "execution_count": 53,
   "metadata": {},
   "outputs": [
    {
     "data": {
      "text/plain": [
       "array([[-0.42088506,  0.03665477],\n",
       "       [-0.4964748 , -0.03469505],\n",
       "       [ 0.91735977, -0.00195972]], dtype=float32)"
      ]
     },
     "execution_count": 53,
     "metadata": {},
     "output_type": "execute_result"
    }
   ],
   "source": [
    "pca=PCA(n_components=2)\n",
    "pca_result=pca.fit_transform(matrix)\n",
    "pca_result"
   ]
  },
  {
   "cell_type": "code",
   "execution_count": 57,
   "metadata": {},
   "outputs": [
    {
     "data": {
      "image/png": "[encoded data removed]",
      "text/plain": [
       "<Figure size 432x288 with 1 Axes>"
      ]
     },
     "metadata": {
      "needs_background": "light"
     },
     "output_type": "display_data"
    }
   ],
   "source": [
    "origin=[0],[0]\n",
    "plt.quiver(*origin,pca_result[:,0],pca_result[:,1],color=['b','r','g'],scale=0.1)\n",
    "plt.show()"
   ]
  },
  {
   "cell_type": "code",
   "execution_count": 59,
   "metadata": {},
   "outputs": [
    {
     "data": {
      "text/plain": [
       "0.10380465"
      ]
     },
     "execution_count": 59,
     "metadata": {},
     "output_type": "execute_result"
    }
   ],
   "source": [
    "direct_cos_bias(neural_word,subspace)"
   ]
  },
  {
   "cell_type": "code",
   "execution_count": 60,
   "metadata": {},
   "outputs": [
    {
     "data": {
      "text/plain": [
       "1.8626451e-09"
      ]
     },
     "execution_count": 60,
     "metadata": {},
     "output_type": "execute_result"
    }
   ],
   "source": [
    "direct_cos_bias(rembed_word,subspace)"
   ]
  },
  {
   "cell_type": "code",
   "execution_count": 63,
   "metadata": {},
   "outputs": [
    {
     "data": {
      "text/plain": [
       "array([ 0.03665477, -0.03469505, -0.00195972], dtype=float32)"
      ]
     },
     "execution_count": 63,
     "metadata": {},
     "output_type": "execute_result"
    }
   ],
   "source": [
    "np.transpose(pca_result)[1]"
   ]
  },
  {
   "cell_type": "code",
   "execution_count": null,
   "metadata": {},
   "outputs": [],
   "source": []
  }
 ],
 "metadata": {
  "kernelspec": {
   "display_name": "Python 3",
   "language": "python",
   "name": "python3"
  },
  "language_info": {
   "codemirror_mode": {
    "name": "ipython",
    "version": 3
   },
   "file_extension": ".py",
   "mimetype": "text/x-python",
   "name": "python",
   "nbconvert_exporter": "python",
   "pygments_lexer": "ipython3",
   "version": "3.7.5"
  }
 },
 "nbformat": 4,
 "nbformat_minor": 2
}
